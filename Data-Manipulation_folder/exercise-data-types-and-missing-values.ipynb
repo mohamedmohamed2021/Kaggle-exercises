{
 "cells": [
  {
   "cell_type": "markdown",
   "id": "ce5ded0c",
   "metadata": {
    "papermill": {
     "duration": 0.00619,
     "end_time": "2022-07-05T11:12:57.584936",
     "exception": false,
     "start_time": "2022-07-05T11:12:57.578746",
     "status": "completed"
    },
    "tags": []
   },
   "source": [
    "**This notebook is an exercise in the [Pandas](https://www.kaggle.com/learn/pandas) course.  You can reference the tutorial at [this link](https://www.kaggle.com/residentmario/data-types-and-missing-values).**\n",
    "\n",
    "---\n"
   ]
  },
  {
   "cell_type": "markdown",
   "id": "a274ee8d",
   "metadata": {
    "papermill": {
     "duration": 0.00511,
     "end_time": "2022-07-05T11:12:57.595531",
     "exception": false,
     "start_time": "2022-07-05T11:12:57.590421",
     "status": "completed"
    },
    "tags": []
   },
   "source": [
    "# Introduction\n",
    "\n",
    "Run the following cell to load your data and some utility functions."
   ]
  },
  {
   "cell_type": "code",
   "execution_count": 1,
   "id": "46751761",
   "metadata": {
    "execution": {
     "iopub.execute_input": "2022-07-05T11:12:57.608339Z",
     "iopub.status.busy": "2022-07-05T11:12:57.607705Z",
     "iopub.status.idle": "2022-07-05T11:13:00.452466Z",
     "shell.execute_reply": "2022-07-05T11:13:00.451672Z"
    },
    "papermill": {
     "duration": 2.853847,
     "end_time": "2022-07-05T11:13:00.454672",
     "exception": false,
     "start_time": "2022-07-05T11:12:57.600825",
     "status": "completed"
    },
    "tags": []
   },
   "outputs": [
    {
     "name": "stdout",
     "output_type": "stream",
     "text": [
      "Setup complete.\n"
     ]
    }
   ],
   "source": [
    "import pandas as pd\n",
    "\n",
    "reviews = pd.read_csv(\"../input/wine-reviews/winemag-data-130k-v2.csv\", index_col=0)\n",
    "\n",
    "from learntools.core import binder; binder.bind(globals())\n",
    "from learntools.pandas.data_types_and_missing_data import *\n",
    "print(\"Setup complete.\")"
   ]
  },
  {
   "cell_type": "markdown",
   "id": "412eb7d6",
   "metadata": {
    "papermill": {
     "duration": 0.005124,
     "end_time": "2022-07-05T11:13:00.465328",
     "exception": false,
     "start_time": "2022-07-05T11:13:00.460204",
     "status": "completed"
    },
    "tags": []
   },
   "source": [
    "# Exercises"
   ]
  },
  {
   "cell_type": "markdown",
   "id": "1e78c83a",
   "metadata": {
    "papermill": {
     "duration": 0.005224,
     "end_time": "2022-07-05T11:13:00.475821",
     "exception": false,
     "start_time": "2022-07-05T11:13:00.470597",
     "status": "completed"
    },
    "tags": []
   },
   "source": [
    "## 1. \n",
    "What is the data type of the `points` column in the dataset?"
   ]
  },
  {
   "cell_type": "code",
   "execution_count": 2,
   "id": "aa700b22",
   "metadata": {
    "execution": {
     "iopub.execute_input": "2022-07-05T11:13:00.488793Z",
     "iopub.status.busy": "2022-07-05T11:13:00.487560Z",
     "iopub.status.idle": "2022-07-05T11:13:00.497826Z",
     "shell.execute_reply": "2022-07-05T11:13:00.497021Z"
    },
    "papermill": {
     "duration": 0.018815,
     "end_time": "2022-07-05T11:13:00.499940",
     "exception": false,
     "start_time": "2022-07-05T11:13:00.481125",
     "status": "completed"
    },
    "tags": []
   },
   "outputs": [
    {
     "data": {
      "application/javascript": [
       "parent.postMessage({\"jupyterEvent\": \"custom.exercise_interaction\", \"data\": {\"outcomeType\": 1, \"valueTowardsCompletion\": 0.25, \"interactionType\": 1, \"questionType\": 1, \"questionId\": \"1_PointsDtype\", \"learnToolsVersion\": \"0.3.4\", \"failureMessage\": \"\", \"exceptionClass\": \"\", \"trace\": \"\"}}, \"*\")"
      ],
      "text/plain": [
       "<IPython.core.display.Javascript object>"
      ]
     },
     "metadata": {},
     "output_type": "display_data"
    },
    {
     "data": {
      "text/markdown": [
       "<span style=\"color:#33cc33\">Correct</span>"
      ],
      "text/plain": [
       "Correct"
      ]
     },
     "metadata": {},
     "output_type": "display_data"
    }
   ],
   "source": [
    "# Your code here\n",
    "dtype = reviews['points'].dtypes\n",
    "\n",
    "# Check your answer\n",
    "q1.check()"
   ]
  },
  {
   "cell_type": "code",
   "execution_count": 3,
   "id": "7e057b81",
   "metadata": {
    "execution": {
     "iopub.execute_input": "2022-07-05T11:13:00.513312Z",
     "iopub.status.busy": "2022-07-05T11:13:00.512711Z",
     "iopub.status.idle": "2022-07-05T11:13:00.516632Z",
     "shell.execute_reply": "2022-07-05T11:13:00.515712Z"
    },
    "papermill": {
     "duration": 0.01293,
     "end_time": "2022-07-05T11:13:00.518727",
     "exception": false,
     "start_time": "2022-07-05T11:13:00.505797",
     "status": "completed"
    },
    "tags": []
   },
   "outputs": [],
   "source": [
    "#q1.hint()\n",
    "#q1.solution()"
   ]
  },
  {
   "cell_type": "markdown",
   "id": "d44fbe52",
   "metadata": {
    "papermill": {
     "duration": 0.005498,
     "end_time": "2022-07-05T11:13:00.530086",
     "exception": false,
     "start_time": "2022-07-05T11:13:00.524588",
     "status": "completed"
    },
    "tags": []
   },
   "source": [
    "## 2. \n",
    "Create a Series from entries in the `points` column, but convert the entries to strings. Hint: strings are `str` in native Python."
   ]
  },
  {
   "cell_type": "code",
   "execution_count": 4,
   "id": "9c826aef",
   "metadata": {
    "execution": {
     "iopub.execute_input": "2022-07-05T11:13:00.543166Z",
     "iopub.status.busy": "2022-07-05T11:13:00.542857Z",
     "iopub.status.idle": "2022-07-05T11:13:00.622418Z",
     "shell.execute_reply": "2022-07-05T11:13:00.621125Z"
    },
    "papermill": {
     "duration": 0.088578,
     "end_time": "2022-07-05T11:13:00.624438",
     "exception": false,
     "start_time": "2022-07-05T11:13:00.535860",
     "status": "completed"
    },
    "tags": []
   },
   "outputs": [
    {
     "data": {
      "application/javascript": [
       "parent.postMessage({\"jupyterEvent\": \"custom.exercise_interaction\", \"data\": {\"outcomeType\": 1, \"valueTowardsCompletion\": 0.25, \"interactionType\": 1, \"questionType\": 1, \"questionId\": \"2_StrPoints\", \"learnToolsVersion\": \"0.3.4\", \"failureMessage\": \"\", \"exceptionClass\": \"\", \"trace\": \"\"}}, \"*\")"
      ],
      "text/plain": [
       "<IPython.core.display.Javascript object>"
      ]
     },
     "metadata": {},
     "output_type": "display_data"
    },
    {
     "data": {
      "text/markdown": [
       "<span style=\"color:#33cc33\">Correct</span>"
      ],
      "text/plain": [
       "Correct"
      ]
     },
     "metadata": {},
     "output_type": "display_data"
    }
   ],
   "source": [
    "point_strings = reviews['points'].astype(str)\n",
    "\n",
    "# Check your answer\n",
    "q2.check()"
   ]
  },
  {
   "cell_type": "code",
   "execution_count": 5,
   "id": "c9192afc",
   "metadata": {
    "execution": {
     "iopub.execute_input": "2022-07-05T11:13:00.637882Z",
     "iopub.status.busy": "2022-07-05T11:13:00.637617Z",
     "iopub.status.idle": "2022-07-05T11:13:00.644134Z",
     "shell.execute_reply": "2022-07-05T11:13:00.643289Z"
    },
    "papermill": {
     "duration": 0.015798,
     "end_time": "2022-07-05T11:13:00.646333",
     "exception": false,
     "start_time": "2022-07-05T11:13:00.630535",
     "status": "completed"
    },
    "tags": []
   },
   "outputs": [
    {
     "data": {
      "application/javascript": [
       "parent.postMessage({\"jupyterEvent\": \"custom.exercise_interaction\", \"data\": {\"interactionType\": 3, \"questionType\": 1, \"questionId\": \"2_StrPoints\", \"learnToolsVersion\": \"0.3.4\", \"valueTowardsCompletion\": 0.0, \"failureMessage\": \"\", \"exceptionClass\": \"\", \"trace\": \"\", \"outcomeType\": 4}}, \"*\")"
      ],
      "text/plain": [
       "<IPython.core.display.Javascript object>"
      ]
     },
     "metadata": {},
     "output_type": "display_data"
    },
    {
     "data": {
      "text/markdown": [
       "<span style=\"color:#33cc99\">Solution:</span> \n",
       "```python\n",
       "point_strings = reviews.points.astype(str)\n",
       "```"
      ],
      "text/plain": [
       "Solution: \n",
       "```python\n",
       "point_strings = reviews.points.astype(str)\n",
       "```"
      ]
     },
     "metadata": {},
     "output_type": "display_data"
    }
   ],
   "source": [
    "#q2.hint()\n",
    "q2.solution()"
   ]
  },
  {
   "cell_type": "markdown",
   "id": "c725c608",
   "metadata": {
    "papermill": {
     "duration": 0.006205,
     "end_time": "2022-07-05T11:13:00.658884",
     "exception": false,
     "start_time": "2022-07-05T11:13:00.652679",
     "status": "completed"
    },
    "tags": []
   },
   "source": [
    "## 3.\n",
    "Sometimes the price column is null. How many reviews in the dataset are missing a price?"
   ]
  },
  {
   "cell_type": "code",
   "execution_count": 6,
   "id": "aa9cdf20",
   "metadata": {
    "execution": {
     "iopub.execute_input": "2022-07-05T11:13:00.673063Z",
     "iopub.status.busy": "2022-07-05T11:13:00.672761Z",
     "iopub.status.idle": "2022-07-05T11:13:00.681124Z",
     "shell.execute_reply": "2022-07-05T11:13:00.680034Z"
    },
    "papermill": {
     "duration": 0.017578,
     "end_time": "2022-07-05T11:13:00.682885",
     "exception": false,
     "start_time": "2022-07-05T11:13:00.665307",
     "status": "completed"
    },
    "tags": []
   },
   "outputs": [
    {
     "data": {
      "application/javascript": [
       "parent.postMessage({\"jupyterEvent\": \"custom.exercise_interaction\", \"data\": {\"outcomeType\": 1, \"valueTowardsCompletion\": 0.25, \"interactionType\": 1, \"questionType\": 1, \"questionId\": \"3_CountMissingPrices\", \"learnToolsVersion\": \"0.3.4\", \"failureMessage\": \"\", \"exceptionClass\": \"\", \"trace\": \"\"}}, \"*\")"
      ],
      "text/plain": [
       "<IPython.core.display.Javascript object>"
      ]
     },
     "metadata": {},
     "output_type": "display_data"
    },
    {
     "data": {
      "text/markdown": [
       "<span style=\"color:#33cc33\">Correct</span>"
      ],
      "text/plain": [
       "Correct"
      ]
     },
     "metadata": {},
     "output_type": "display_data"
    }
   ],
   "source": [
    "n_missing_prices = (reviews['price'].isnull()).sum()\n",
    "\n",
    "# Check your answer\n",
    "q3.check()"
   ]
  },
  {
   "cell_type": "code",
   "execution_count": 7,
   "id": "c0c2309c",
   "metadata": {
    "execution": {
     "iopub.execute_input": "2022-07-05T11:13:00.692849Z",
     "iopub.status.busy": "2022-07-05T11:13:00.692593Z",
     "iopub.status.idle": "2022-07-05T11:13:00.696371Z",
     "shell.execute_reply": "2022-07-05T11:13:00.695482Z"
    },
    "papermill": {
     "duration": 0.010935,
     "end_time": "2022-07-05T11:13:00.698143",
     "exception": false,
     "start_time": "2022-07-05T11:13:00.687208",
     "status": "completed"
    },
    "tags": []
   },
   "outputs": [],
   "source": [
    "#q3.hint()\n",
    "#q3.solution()"
   ]
  },
  {
   "cell_type": "markdown",
   "id": "346d72bc",
   "metadata": {
    "papermill": {
     "duration": 0.003875,
     "end_time": "2022-07-05T11:13:00.706330",
     "exception": false,
     "start_time": "2022-07-05T11:13:00.702455",
     "status": "completed"
    },
    "tags": []
   },
   "source": [
    "## 4.\n",
    "What are the most common wine-producing regions? Create a Series counting the number of times each value occurs in the `region_1` field. This field is often missing data, so replace missing values with `Unknown`. Sort in descending order.  Your output should look something like this:\n",
    "\n",
    "```\n",
    "Unknown                    21247\n",
    "Napa Valley                 4480\n",
    "                           ...  \n",
    "Bardolino Superiore            1\n",
    "Primitivo del Tarantino        1\n",
    "Name: region_1, Length: 1230, dtype: int64\n",
    "```"
   ]
  },
  {
   "cell_type": "code",
   "execution_count": 8,
   "id": "a7b77924",
   "metadata": {
    "execution": {
     "iopub.execute_input": "2022-07-05T11:13:00.715823Z",
     "iopub.status.busy": "2022-07-05T11:13:00.715535Z",
     "iopub.status.idle": "2022-07-05T11:13:00.762543Z",
     "shell.execute_reply": "2022-07-05T11:13:00.761481Z"
    },
    "papermill": {
     "duration": 0.054279,
     "end_time": "2022-07-05T11:13:00.764704",
     "exception": false,
     "start_time": "2022-07-05T11:13:00.710425",
     "status": "completed"
    },
    "tags": []
   },
   "outputs": [
    {
     "name": "stdout",
     "output_type": "stream",
     "text": [
      "['Etna' nan 'Willamette Valley' ... 'Del Veneto' 'Bardolino Superiore'\n",
      " 'Paestum']\n"
     ]
    },
    {
     "data": {
      "application/javascript": [
       "parent.postMessage({\"jupyterEvent\": \"custom.exercise_interaction\", \"data\": {\"outcomeType\": 1, \"valueTowardsCompletion\": 0.25, \"interactionType\": 1, \"questionType\": 2, \"questionId\": \"4_ReviewsPerRegion\", \"learnToolsVersion\": \"0.3.4\", \"failureMessage\": \"\", \"exceptionClass\": \"\", \"trace\": \"\"}}, \"*\")"
      ],
      "text/plain": [
       "<IPython.core.display.Javascript object>"
      ]
     },
     "metadata": {},
     "output_type": "display_data"
    },
    {
     "data": {
      "text/markdown": [
       "<span style=\"color:#33cc33\">Correct</span>"
      ],
      "text/plain": [
       "Correct"
      ]
     },
     "metadata": {},
     "output_type": "display_data"
    }
   ],
   "source": [
    "print(reviews['region_1'].unique())\n",
    "\n",
    "reviews['region_1']=reviews['region_1'].fillna('Unknown')\n",
    "\n",
    "reviews_per_region =reviews['region_1'].value_counts().sort_values(ascending=False)\n",
    "\n",
    "# Check your answer\n",
    "q4.check()"
   ]
  },
  {
   "cell_type": "code",
   "execution_count": 9,
   "id": "1ccf6304",
   "metadata": {
    "execution": {
     "iopub.execute_input": "2022-07-05T11:13:00.780741Z",
     "iopub.status.busy": "2022-07-05T11:13:00.780272Z",
     "iopub.status.idle": "2022-07-05T11:13:00.788869Z",
     "shell.execute_reply": "2022-07-05T11:13:00.787411Z"
    },
    "papermill": {
     "duration": 0.019435,
     "end_time": "2022-07-05T11:13:00.791299",
     "exception": false,
     "start_time": "2022-07-05T11:13:00.771864",
     "status": "completed"
    },
    "tags": []
   },
   "outputs": [
    {
     "data": {
      "application/javascript": [
       "parent.postMessage({\"jupyterEvent\": \"custom.exercise_interaction\", \"data\": {\"interactionType\": 3, \"questionType\": 2, \"questionId\": \"4_ReviewsPerRegion\", \"learnToolsVersion\": \"0.3.4\", \"valueTowardsCompletion\": 0.0, \"failureMessage\": \"\", \"exceptionClass\": \"\", \"trace\": \"\", \"outcomeType\": 4}}, \"*\")"
      ],
      "text/plain": [
       "<IPython.core.display.Javascript object>"
      ]
     },
     "metadata": {},
     "output_type": "display_data"
    },
    {
     "data": {
      "text/markdown": [
       "<span style=\"color:#33cc99\">Solution:</span> \n",
       "```python\n",
       "reviews_per_region = reviews.region_1.fillna('Unknown').value_counts().sort_values(ascending=False)\n",
       "```"
      ],
      "text/plain": [
       "Solution: \n",
       "```python\n",
       "reviews_per_region = reviews.region_1.fillna('Unknown').value_counts().sort_values(ascending=False)\n",
       "```"
      ]
     },
     "metadata": {},
     "output_type": "display_data"
    }
   ],
   "source": [
    "#q4.hint()\n",
    "q4.solution()"
   ]
  },
  {
   "cell_type": "markdown",
   "id": "113425bf",
   "metadata": {
    "papermill": {
     "duration": 0.004375,
     "end_time": "2022-07-05T11:13:00.800919",
     "exception": false,
     "start_time": "2022-07-05T11:13:00.796544",
     "status": "completed"
    },
    "tags": []
   },
   "source": [
    "# Keep going\n",
    "\n",
    "Move on to **[renaming and combining](https://www.kaggle.com/residentmario/renaming-and-combining)**."
   ]
  },
  {
   "cell_type": "markdown",
   "id": "0b36152e",
   "metadata": {
    "papermill": {
     "duration": 0.004443,
     "end_time": "2022-07-05T11:13:00.809993",
     "exception": false,
     "start_time": "2022-07-05T11:13:00.805550",
     "status": "completed"
    },
    "tags": []
   },
   "source": [
    "---\n",
    "\n",
    "\n",
    "\n",
    "\n",
    "*Have questions or comments? Visit the [course discussion forum](https://www.kaggle.com/learn/pandas/discussion) to chat with other learners.*"
   ]
  }
 ],
 "metadata": {
  "kernelspec": {
   "display_name": "Python 3",
   "language": "python",
   "name": "python3"
  },
  "language_info": {
   "codemirror_mode": {
    "name": "ipython",
    "version": 3
   },
   "file_extension": ".py",
   "mimetype": "text/x-python",
   "name": "python",
   "nbconvert_exporter": "python",
   "pygments_lexer": "ipython3",
   "version": "3.7.12"
  },
  "papermill": {
   "default_parameters": {},
   "duration": 14.035848,
   "end_time": "2022-07-05T11:13:01.636246",
   "environment_variables": {},
   "exception": null,
   "input_path": "__notebook__.ipynb",
   "output_path": "__notebook__.ipynb",
   "parameters": {},
   "start_time": "2022-07-05T11:12:47.600398",
   "version": "2.3.4"
  }
 },
 "nbformat": 4,
 "nbformat_minor": 5
}
