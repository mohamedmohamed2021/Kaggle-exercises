{
 "cells": [
  {
   "cell_type": "markdown",
   "id": "1afe1ec1",
   "metadata": {
    "papermill": {
     "duration": 0.007128,
     "end_time": "2022-06-30T22:36:49.703425",
     "exception": false,
     "start_time": "2022-06-30T22:36:49.696297",
     "status": "completed"
    },
    "tags": []
   },
   "source": [
    "**This notebook is an exercise in the [Data Cleaning](https://www.kaggle.com/learn/data-cleaning) course.  You can reference the tutorial at [this link](https://www.kaggle.com/alexisbcook/inconsistent-data-entry).**\n",
    "\n",
    "---\n"
   ]
  },
  {
   "cell_type": "markdown",
   "id": "b2d7e7ac",
   "metadata": {
    "papermill": {
     "duration": 0.005584,
     "end_time": "2022-06-30T22:36:49.715247",
     "exception": false,
     "start_time": "2022-06-30T22:36:49.709663",
     "status": "completed"
    },
    "tags": []
   },
   "source": [
    "In this exercise, you'll apply what you learned in the **Inconsistent data entry** tutorial.\n",
    "\n",
    "# Setup\n",
    "\n",
    "The questions below will give you feedback on your work. Run the following cell to set up the feedback system."
   ]
  },
  {
   "cell_type": "code",
   "execution_count": 1,
   "id": "935e6b1e",
   "metadata": {
    "execution": {
     "iopub.execute_input": "2022-06-30T22:36:49.731079Z",
     "iopub.status.busy": "2022-06-30T22:36:49.729633Z",
     "iopub.status.idle": "2022-06-30T22:36:49.866211Z",
     "shell.execute_reply": "2022-06-30T22:36:49.864837Z"
    },
    "papermill": {
     "duration": 0.147936,
     "end_time": "2022-06-30T22:36:49.869104",
     "exception": false,
     "start_time": "2022-06-30T22:36:49.721168",
     "status": "completed"
    },
    "tags": []
   },
   "outputs": [
    {
     "name": "stdout",
     "output_type": "stream",
     "text": [
      "Setup Complete\n"
     ]
    }
   ],
   "source": [
    "from learntools.core import binder\n",
    "binder.bind(globals())\n",
    "from learntools.data_cleaning.ex5 import *\n",
    "print(\"Setup Complete\")"
   ]
  },
  {
   "cell_type": "markdown",
   "id": "8bcfcc27",
   "metadata": {
    "papermill": {
     "duration": 0.005766,
     "end_time": "2022-06-30T22:36:49.881677",
     "exception": false,
     "start_time": "2022-06-30T22:36:49.875911",
     "status": "completed"
    },
    "tags": []
   },
   "source": [
    "# Get our environment set up\n",
    "\n",
    "The first thing we'll need to do is load in the libraries and dataset we'll be using.  We use the same dataset from the tutorial."
   ]
  },
  {
   "cell_type": "code",
   "execution_count": 2,
   "id": "d6883672",
   "metadata": {
    "execution": {
     "iopub.execute_input": "2022-06-30T22:36:49.895904Z",
     "iopub.status.busy": "2022-06-30T22:36:49.895428Z",
     "iopub.status.idle": "2022-06-30T22:36:49.915976Z",
     "shell.execute_reply": "2022-06-30T22:36:49.914644Z"
    },
    "papermill": {
     "duration": 0.031287,
     "end_time": "2022-06-30T22:36:49.919010",
     "exception": false,
     "start_time": "2022-06-30T22:36:49.887723",
     "status": "completed"
    },
    "tags": []
   },
   "outputs": [],
   "source": [
    "# modules we'll use\n",
    "import pandas as pd\n",
    "import numpy as np\n",
    "\n",
    "# helpful modules\n",
    "import fuzzywuzzy\n",
    "from fuzzywuzzy import process\n",
    "import chardet\n",
    "\n",
    "# read in all our data\n",
    "professors = pd.read_csv(\"../input/pakistan-intellectual-capital/pakistan_intellectual_capital.csv\")\n",
    "\n",
    "# set seed for reproducibility\n",
    "np.random.seed(0)"
   ]
  },
  {
   "cell_type": "markdown",
   "id": "2a1e1dc1",
   "metadata": {
    "papermill": {
     "duration": 0.006335,
     "end_time": "2022-06-30T22:36:49.931962",
     "exception": false,
     "start_time": "2022-06-30T22:36:49.925627",
     "status": "completed"
    },
    "tags": []
   },
   "source": [
    "Next, we'll redo all of the work that we did in the tutorial."
   ]
  },
  {
   "cell_type": "code",
   "execution_count": 3,
   "id": "c37b3d83",
   "metadata": {
    "execution": {
     "iopub.execute_input": "2022-06-30T22:36:49.946427Z",
     "iopub.status.busy": "2022-06-30T22:36:49.945957Z",
     "iopub.status.idle": "2022-06-30T22:36:49.965269Z",
     "shell.execute_reply": "2022-06-30T22:36:49.964010Z"
    },
    "papermill": {
     "duration": 0.029384,
     "end_time": "2022-06-30T22:36:49.967584",
     "exception": false,
     "start_time": "2022-06-30T22:36:49.938200",
     "status": "completed"
    },
    "tags": []
   },
   "outputs": [
    {
     "name": "stdout",
     "output_type": "stream",
     "text": [
      "All done!\n"
     ]
    }
   ],
   "source": [
    "# convert to lower case\n",
    "professors['Country'] = professors['Country'].str.lower()\n",
    "# remove trailing white spaces\n",
    "professors['Country'] = professors['Country'].str.strip()\n",
    "\n",
    "# get the top 10 closest matches to \"south korea\"\n",
    "countries = professors['Country'].unique()\n",
    "matches = fuzzywuzzy.process.extract(\"south korea\", countries, limit=10, scorer=fuzzywuzzy.fuzz.token_sort_ratio)\n",
    "\n",
    "def replace_matches_in_column(df, column, string_to_match, min_ratio = 47):\n",
    "    # get a list of unique strings\n",
    "    strings = df[column].unique()\n",
    "    \n",
    "    # get the top 10 closest matches to our input string\n",
    "    matches = fuzzywuzzy.process.extract(string_to_match, strings, \n",
    "                                         limit=10, scorer=fuzzywuzzy.fuzz.token_sort_ratio)\n",
    "\n",
    "    # only get matches with a ratio > 90\n",
    "    close_matches = [matches[0] for matches in matches if matches[1] >= min_ratio]\n",
    "\n",
    "    # get the rows of all the close matches in our dataframe\n",
    "    rows_with_matches = df[column].isin(close_matches)\n",
    "\n",
    "    # replace all rows with close matches with the input matches \n",
    "    df.loc[rows_with_matches, column] = string_to_match\n",
    "    \n",
    "    # let us know the function's done\n",
    "    print(\"All done!\")\n",
    "    \n",
    "replace_matches_in_column(df=professors, column='Country', string_to_match=\"south korea\")\n",
    "countries = professors['Country'].unique()"
   ]
  },
  {
   "cell_type": "markdown",
   "id": "e28a1e02",
   "metadata": {
    "papermill": {
     "duration": 0.006061,
     "end_time": "2022-06-30T22:36:49.979967",
     "exception": false,
     "start_time": "2022-06-30T22:36:49.973906",
     "status": "completed"
    },
    "tags": []
   },
   "source": [
    "# 1) Examine another column\n",
    "\n",
    "Write code below to take a look at all the unique values in the \"Graduated from\" column."
   ]
  },
  {
   "cell_type": "code",
   "execution_count": 4,
   "id": "d2e34ba9",
   "metadata": {
    "execution": {
     "iopub.execute_input": "2022-06-30T22:36:49.995260Z",
     "iopub.status.busy": "2022-06-30T22:36:49.994356Z",
     "iopub.status.idle": "2022-06-30T22:36:50.000378Z",
     "shell.execute_reply": "2022-06-30T22:36:49.999308Z"
    },
    "papermill": {
     "duration": 0.01632,
     "end_time": "2022-06-30T22:36:50.002675",
     "exception": false,
     "start_time": "2022-06-30T22:36:49.986355",
     "status": "completed"
    },
    "tags": []
   },
   "outputs": [],
   "source": [
    "# TODO: Your code here\n",
    "graduated_from = professors[\"Graduated from\"].unique()\n"
   ]
  },
  {
   "cell_type": "markdown",
   "id": "1534f40c",
   "metadata": {
    "papermill": {
     "duration": 0.006175,
     "end_time": "2022-06-30T22:36:50.015189",
     "exception": false,
     "start_time": "2022-06-30T22:36:50.009014",
     "status": "completed"
    },
    "tags": []
   },
   "source": [
    "Do you notice any inconsistencies in the data?  Can any of the inconsistencies in the data be fixed by removing white spaces at the beginning and end of cells?\n",
    "\n",
    "Once you have answered these questions, run the code cell below to get credit for your work."
   ]
  },
  {
   "cell_type": "code",
   "execution_count": 5,
   "id": "17e26054",
   "metadata": {
    "execution": {
     "iopub.execute_input": "2022-06-30T22:36:50.030983Z",
     "iopub.status.busy": "2022-06-30T22:36:50.029717Z",
     "iopub.status.idle": "2022-06-30T22:36:50.042322Z",
     "shell.execute_reply": "2022-06-30T22:36:50.041076Z"
    },
    "papermill": {
     "duration": 0.023182,
     "end_time": "2022-06-30T22:36:50.044840",
     "exception": false,
     "start_time": "2022-06-30T22:36:50.021658",
     "status": "completed"
    },
    "tags": []
   },
   "outputs": [
    {
     "data": {
      "application/javascript": [
       "parent.postMessage({\"jupyterEvent\": \"custom.exercise_interaction\", \"data\": {\"outcomeType\": 1, \"valueTowardsCompletion\": 0.3333333333333333, \"interactionType\": 1, \"questionType\": 4, \"questionId\": \"1_ExamineProvince\", \"learnToolsVersion\": \"0.3.4\", \"failureMessage\": \"\", \"exceptionClass\": \"\", \"trace\": \"\"}}, \"*\")"
      ],
      "text/plain": [
       "<IPython.core.display.Javascript object>"
      ]
     },
     "metadata": {},
     "output_type": "display_data"
    },
    {
     "data": {
      "text/markdown": [
       "<span style=\"color:#33cc33\">Correct:</span> \n",
       "\n",
       "There are inconsistencies that can be fixed by removing white spaces at the beginning and end of cells.  For instance, \"University of Central Florida\" and \" University of Central Florida\" both appear in the column."
      ],
      "text/plain": [
       "Correct: \n",
       "\n",
       "There are inconsistencies that can be fixed by removing white spaces at the beginning and end of cells.  For instance, \"University of Central Florida\" and \" University of Central Florida\" both appear in the column."
      ]
     },
     "metadata": {},
     "output_type": "display_data"
    }
   ],
   "source": [
    "# Check your answer (Run this code cell to receive credit!)\n",
    "q1.check()"
   ]
  },
  {
   "cell_type": "code",
   "execution_count": 6,
   "id": "ef0c125b",
   "metadata": {
    "execution": {
     "iopub.execute_input": "2022-06-30T22:36:50.059983Z",
     "iopub.status.busy": "2022-06-30T22:36:50.059476Z",
     "iopub.status.idle": "2022-06-30T22:36:50.064493Z",
     "shell.execute_reply": "2022-06-30T22:36:50.063321Z"
    },
    "papermill": {
     "duration": 0.015284,
     "end_time": "2022-06-30T22:36:50.066791",
     "exception": false,
     "start_time": "2022-06-30T22:36:50.051507",
     "status": "completed"
    },
    "tags": []
   },
   "outputs": [],
   "source": [
    "# Line below will give you a hint\n",
    "#q1.hint()"
   ]
  },
  {
   "cell_type": "markdown",
   "id": "cdb8e103",
   "metadata": {
    "papermill": {
     "duration": 0.006463,
     "end_time": "2022-06-30T22:36:50.079785",
     "exception": false,
     "start_time": "2022-06-30T22:36:50.073322",
     "status": "completed"
    },
    "tags": []
   },
   "source": [
    "# 2) Do some text pre-processing\n",
    "\n",
    "Convert every entry in the \"Graduated from\" column in the `professors` DataFrame to remove white spaces at the beginning and end of cells."
   ]
  },
  {
   "cell_type": "code",
   "execution_count": 7,
   "id": "5aed51ee",
   "metadata": {
    "execution": {
     "iopub.execute_input": "2022-06-30T22:36:50.096042Z",
     "iopub.status.busy": "2022-06-30T22:36:50.095133Z",
     "iopub.status.idle": "2022-06-30T22:36:50.110709Z",
     "shell.execute_reply": "2022-06-30T22:36:50.109460Z"
    },
    "papermill": {
     "duration": 0.027667,
     "end_time": "2022-06-30T22:36:50.114119",
     "exception": false,
     "start_time": "2022-06-30T22:36:50.086452",
     "status": "completed"
    },
    "tags": []
   },
   "outputs": [
    {
     "data": {
      "application/javascript": [
       "parent.postMessage({\"jupyterEvent\": \"custom.exercise_interaction\", \"data\": {\"outcomeType\": 1, \"valueTowardsCompletion\": 0.3333333333333333, \"interactionType\": 1, \"questionType\": 1, \"questionId\": \"2_TextProcessing\", \"learnToolsVersion\": \"0.3.4\", \"failureMessage\": \"\", \"exceptionClass\": \"\", \"trace\": \"\"}}, \"*\")"
      ],
      "text/plain": [
       "<IPython.core.display.Javascript object>"
      ]
     },
     "metadata": {},
     "output_type": "display_data"
    },
    {
     "data": {
      "text/markdown": [
       "<span style=\"color:#33cc33\">Correct</span>"
      ],
      "text/plain": [
       "Correct"
      ]
     },
     "metadata": {},
     "output_type": "display_data"
    }
   ],
   "source": [
    "#TODO: Your code here\n",
    " \n",
    "  #handle trailing white space inconsistency\n",
    "professors[\"Graduated from\"] = professors[\"Graduated from\"].str.strip()\n",
    "\n",
    "# Check your answer\n",
    "q2.check()"
   ]
  },
  {
   "cell_type": "code",
   "execution_count": 8,
   "id": "62b526e3",
   "metadata": {
    "execution": {
     "iopub.execute_input": "2022-06-30T22:36:50.129992Z",
     "iopub.status.busy": "2022-06-30T22:36:50.129459Z",
     "iopub.status.idle": "2022-06-30T22:36:50.134477Z",
     "shell.execute_reply": "2022-06-30T22:36:50.133427Z"
    },
    "papermill": {
     "duration": 0.016021,
     "end_time": "2022-06-30T22:36:50.136984",
     "exception": false,
     "start_time": "2022-06-30T22:36:50.120963",
     "status": "completed"
    },
    "tags": []
   },
   "outputs": [],
   "source": [
    "# Lines below will give you a hint or solution code\n",
    "#q2.hint()\n",
    "#q2.solution()"
   ]
  },
  {
   "cell_type": "markdown",
   "id": "eb070029",
   "metadata": {
    "papermill": {
     "duration": 0.006862,
     "end_time": "2022-06-30T22:36:50.151162",
     "exception": false,
     "start_time": "2022-06-30T22:36:50.144300",
     "status": "completed"
    },
    "tags": []
   },
   "source": [
    "# 3) Continue working with countries\n",
    "\n",
    "In the tutorial, we focused on cleaning up inconsistencies in the \"Country\" column.  Run the code cell below to view the list of unique values that we ended with."
   ]
  },
  {
   "cell_type": "code",
   "execution_count": 9,
   "id": "c567cd0f",
   "metadata": {
    "execution": {
     "iopub.execute_input": "2022-06-30T22:36:50.168427Z",
     "iopub.status.busy": "2022-06-30T22:36:50.167708Z",
     "iopub.status.idle": "2022-06-30T22:36:50.175444Z",
     "shell.execute_reply": "2022-06-30T22:36:50.174523Z"
    },
    "papermill": {
     "duration": 0.01941,
     "end_time": "2022-06-30T22:36:50.177760",
     "exception": false,
     "start_time": "2022-06-30T22:36:50.158350",
     "status": "completed"
    },
    "tags": []
   },
   "outputs": [
    {
     "data": {
      "text/plain": [
       "array(['australia', 'austria', 'canada', 'china', 'finland', 'france',\n",
       "       'germany', 'greece', 'hongkong', 'ireland', 'italy', 'japan',\n",
       "       'macau', 'malaysia', 'mauritius', 'netherland', 'new zealand',\n",
       "       'norway', 'pakistan', 'portugal', 'russian federation',\n",
       "       'saudi arabia', 'scotland', 'singapore', 'south korea', 'spain',\n",
       "       'sweden', 'thailand', 'turkey', 'uk', 'urbana', 'usa', 'usofa'],\n",
       "      dtype=object)"
      ]
     },
     "execution_count": 9,
     "metadata": {},
     "output_type": "execute_result"
    }
   ],
   "source": [
    "# get all the unique values in the 'City' column\n",
    "countries = professors['Country'].unique()\n",
    "\n",
    "# sort them alphabetically and then take a closer look\n",
    "countries.sort()\n",
    "countries"
   ]
  },
  {
   "cell_type": "markdown",
   "id": "7dce9d69",
   "metadata": {
    "papermill": {
     "duration": 0.006642,
     "end_time": "2022-06-30T22:36:50.191500",
     "exception": false,
     "start_time": "2022-06-30T22:36:50.184858",
     "status": "completed"
    },
    "tags": []
   },
   "source": [
    "Take another look at the \"Country\" column and see if there's any more data cleaning we need to do.\n",
    "\n",
    "It looks like 'usa' and 'usofa' should be the same country.  Correct the \"Country\" column in the dataframe to replace 'usofa' with 'usa'.\n",
    "\n",
    "**Use the most recent version of the DataFrame (with the whitespaces at the beginning and end of cells removed) from question 2.**"
   ]
  },
  {
   "cell_type": "code",
   "execution_count": 10,
   "id": "e7334eec",
   "metadata": {
    "execution": {
     "iopub.execute_input": "2022-06-30T22:36:50.209283Z",
     "iopub.status.busy": "2022-06-30T22:36:50.208567Z",
     "iopub.status.idle": "2022-06-30T22:36:50.226921Z",
     "shell.execute_reply": "2022-06-30T22:36:50.225306Z"
    },
    "papermill": {
     "duration": 0.031223,
     "end_time": "2022-06-30T22:36:50.229787",
     "exception": false,
     "start_time": "2022-06-30T22:36:50.198564",
     "status": "completed"
    },
    "tags": []
   },
   "outputs": [
    {
     "name": "stdout",
     "output_type": "stream",
     "text": [
      "[('usa', 100), ('usofa', 75), ('austria', 60), ('australia', 50), ('spain', 50), ('urbana', 44), ('uk', 40), ('malaysia', 36), ('pakistan', 36), ('portugal', 36)]\n",
      "All done!\n"
     ]
    },
    {
     "data": {
      "application/javascript": [
       "parent.postMessage({\"jupyterEvent\": \"custom.exercise_interaction\", \"data\": {\"outcomeType\": 1, \"valueTowardsCompletion\": 0.3333333333333333, \"interactionType\": 1, \"questionType\": 1, \"questionId\": \"3_WorkingWithCities\", \"learnToolsVersion\": \"0.3.4\", \"failureMessage\": \"\", \"exceptionClass\": \"\", \"trace\": \"\"}}, \"*\")"
      ],
      "text/plain": [
       "<IPython.core.display.Javascript object>"
      ]
     },
     "metadata": {},
     "output_type": "display_data"
    },
    {
     "data": {
      "text/markdown": [
       "<span style=\"color:#33cc33\">Correct</span>"
      ],
      "text/plain": [
       "Correct"
      ]
     },
     "metadata": {},
     "output_type": "display_data"
    }
   ],
   "source": [
    "# TODO: Your code here!\n",
    "\n",
    "def replace_matches_in_column(df, column, string_to_match, min_ratio = 47):\n",
    "    # get a list of unique strings\n",
    "    strings = df[column].unique()\n",
    "    \n",
    "    # get the top 10 closest matches to our input string\n",
    "    matches = fuzzywuzzy.process.extract(string_to_match, strings, \n",
    "                                         limit=10, scorer=fuzzywuzzy.fuzz.token_sort_ratio)\n",
    "\n",
    "    # only get matches with a ratio > 90\n",
    "    close_matches = [matches[0] for matches in matches if matches[1] >= min_ratio]\n",
    "\n",
    "    # get the rows of all the close matches in our dataframe\n",
    "    rows_with_matches = df[column].isin(close_matches)\n",
    "\n",
    "    # replace all rows with close matches with the input matches \n",
    "    df.loc[rows_with_matches, column] = string_to_match\n",
    "    \n",
    "    # let us know the function's done\n",
    "    print(\"All done!\")\n",
    "\n",
    "matches=fuzzywuzzy.process.extract(\"usa\",countries,limit=10,scorer=fuzzywuzzy.fuzz.token_sort_ratio)\n",
    "print(matches)\n",
    "replace_matches_in_column(df=professors, column='Country', string_to_match=\"usa\",min_ratio = 75) \n",
    "\n",
    "# Check your answer\n",
    "q3.check()"
   ]
  },
  {
   "cell_type": "code",
   "execution_count": 11,
   "id": "f2185150",
   "metadata": {
    "execution": {
     "iopub.execute_input": "2022-06-30T22:36:50.247044Z",
     "iopub.status.busy": "2022-06-30T22:36:50.246140Z",
     "iopub.status.idle": "2022-06-30T22:36:50.251778Z",
     "shell.execute_reply": "2022-06-30T22:36:50.250842Z"
    },
    "papermill": {
     "duration": 0.017009,
     "end_time": "2022-06-30T22:36:50.254283",
     "exception": false,
     "start_time": "2022-06-30T22:36:50.237274",
     "status": "completed"
    },
    "tags": []
   },
   "outputs": [],
   "source": [
    "# Lines below will give you a hint or solution code\n",
    "#q3.hint()\n",
    "#q3.solution()"
   ]
  },
  {
   "cell_type": "markdown",
   "id": "24bd68c3",
   "metadata": {
    "papermill": {
     "duration": 0.006722,
     "end_time": "2022-06-30T22:36:50.268306",
     "exception": false,
     "start_time": "2022-06-30T22:36:50.261584",
     "status": "completed"
    },
    "tags": []
   },
   "source": [
    "# Congratulations!\n",
    "\n",
    "Congratulations for completing the **Data Cleaning** course on Kaggle Learn!\n",
    "\n",
    "To practice your new skills, you're encouraged to download and investigate some of [Kaggle's Datasets](https://www.kaggle.com/datasets)."
   ]
  },
  {
   "cell_type": "markdown",
   "id": "6dbd72b0",
   "metadata": {
    "papermill": {
     "duration": 0.006776,
     "end_time": "2022-06-30T22:36:50.282464",
     "exception": false,
     "start_time": "2022-06-30T22:36:50.275688",
     "status": "completed"
    },
    "tags": []
   },
   "source": [
    "---\n",
    "\n",
    "\n",
    "\n",
    "\n",
    "*Have questions or comments? Visit the [course discussion forum](https://www.kaggle.com/learn/data-cleaning/discussion) to chat with other learners.*"
   ]
  }
 ],
 "metadata": {
  "kernelspec": {
   "display_name": "Python 3",
   "language": "python",
   "name": "python3"
  },
  "language_info": {
   "codemirror_mode": {
    "name": "ipython",
    "version": 3
   },
   "file_extension": ".py",
   "mimetype": "text/x-python",
   "name": "python",
   "nbconvert_exporter": "python",
   "pygments_lexer": "ipython3",
   "version": "3.7.12"
  },
  "papermill": {
   "default_parameters": {},
   "duration": 12.801853,
   "end_time": "2022-06-30T22:36:51.215314",
   "environment_variables": {},
   "exception": null,
   "input_path": "__notebook__.ipynb",
   "output_path": "__notebook__.ipynb",
   "parameters": {},
   "start_time": "2022-06-30T22:36:38.413461",
   "version": "2.3.4"
  }
 },
 "nbformat": 4,
 "nbformat_minor": 5
}
