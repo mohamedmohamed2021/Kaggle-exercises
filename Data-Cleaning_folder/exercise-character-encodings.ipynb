{
 "cells": [
  {
   "cell_type": "markdown",
   "id": "8c352cb9",
   "metadata": {
    "papermill": {
     "duration": 0.00476,
     "end_time": "2022-06-30T19:42:18.649799",
     "exception": false,
     "start_time": "2022-06-30T19:42:18.645039",
     "status": "completed"
    },
    "tags": []
   },
   "source": [
    "**This notebook is an exercise in the [Data Cleaning](https://www.kaggle.com/learn/data-cleaning) course.  You can reference the tutorial at [this link](https://www.kaggle.com/alexisbcook/character-encodings).**\n",
    "\n",
    "---\n"
   ]
  },
  {
   "cell_type": "markdown",
   "id": "b460f5bb",
   "metadata": {
    "papermill": {
     "duration": 0.003856,
     "end_time": "2022-06-30T19:42:18.658457",
     "exception": false,
     "start_time": "2022-06-30T19:42:18.654601",
     "status": "completed"
    },
    "tags": []
   },
   "source": [
    "In this exercise, you'll apply what you learned in the **Character encodings** tutorial.\n",
    "\n",
    "# Setup\n",
    "\n",
    "The questions below will give you feedback on your work. Run the following cell to set up the feedback system."
   ]
  },
  {
   "cell_type": "code",
   "execution_count": 1,
   "id": "f8ca8280",
   "metadata": {
    "execution": {
     "iopub.execute_input": "2022-06-30T19:42:18.668308Z",
     "iopub.status.busy": "2022-06-30T19:42:18.667884Z",
     "iopub.status.idle": "2022-06-30T19:42:18.778539Z",
     "shell.execute_reply": "2022-06-30T19:42:18.776844Z"
    },
    "papermill": {
     "duration": 0.11961,
     "end_time": "2022-06-30T19:42:18.782077",
     "exception": false,
     "start_time": "2022-06-30T19:42:18.662467",
     "status": "completed"
    },
    "tags": []
   },
   "outputs": [
    {
     "name": "stdout",
     "output_type": "stream",
     "text": [
      "Setup Complete\n"
     ]
    }
   ],
   "source": [
    "from learntools.core import binder\n",
    "binder.bind(globals())\n",
    "from learntools.data_cleaning.ex4 import *\n",
    "print(\"Setup Complete\")"
   ]
  },
  {
   "cell_type": "markdown",
   "id": "4b462c6a",
   "metadata": {
    "papermill": {
     "duration": 0.003731,
     "end_time": "2022-06-30T19:42:18.790047",
     "exception": false,
     "start_time": "2022-06-30T19:42:18.786316",
     "status": "completed"
    },
    "tags": []
   },
   "source": [
    "# Get our environment set up\n",
    "\n",
    "The first thing we'll need to do is load in the libraries we'll be using."
   ]
  },
  {
   "cell_type": "code",
   "execution_count": 2,
   "id": "0b56fd43",
   "metadata": {
    "execution": {
     "iopub.execute_input": "2022-06-30T19:42:18.799862Z",
     "iopub.status.busy": "2022-06-30T19:42:18.799465Z",
     "iopub.status.idle": "2022-06-30T19:42:18.805651Z",
     "shell.execute_reply": "2022-06-30T19:42:18.804474Z"
    },
    "papermill": {
     "duration": 0.013733,
     "end_time": "2022-06-30T19:42:18.807976",
     "exception": false,
     "start_time": "2022-06-30T19:42:18.794243",
     "status": "completed"
    },
    "tags": []
   },
   "outputs": [],
   "source": [
    "# modules we'll use\n",
    "import pandas as pd\n",
    "import numpy as np\n",
    "\n",
    "# helpful character encoding module\n",
    "import chardet\n",
    "\n",
    "# set seed for reproducibility\n",
    "np.random.seed(0)"
   ]
  },
  {
   "cell_type": "markdown",
   "id": "690ffc43",
   "metadata": {
    "papermill": {
     "duration": 0.004334,
     "end_time": "2022-06-30T19:42:18.816525",
     "exception": false,
     "start_time": "2022-06-30T19:42:18.812191",
     "status": "completed"
    },
    "tags": []
   },
   "source": [
    "# 1) What are encodings?\n",
    "\n",
    "You're working with a dataset composed of bytes.  Run the code cell below to print a sample entry."
   ]
  },
  {
   "cell_type": "code",
   "execution_count": 3,
   "id": "d5be6df6",
   "metadata": {
    "execution": {
     "iopub.execute_input": "2022-06-30T19:42:18.826313Z",
     "iopub.status.busy": "2022-06-30T19:42:18.825912Z",
     "iopub.status.idle": "2022-06-30T19:42:18.831042Z",
     "shell.execute_reply": "2022-06-30T19:42:18.830298Z"
    },
    "papermill": {
     "duration": 0.013701,
     "end_time": "2022-06-30T19:42:18.834386",
     "exception": false,
     "start_time": "2022-06-30T19:42:18.820685",
     "status": "completed"
    },
    "tags": []
   },
   "outputs": [
    {
     "name": "stdout",
     "output_type": "stream",
     "text": [
      "b'\\xa7A\\xa6n'\n",
      "data type: <class 'bytes'>\n"
     ]
    }
   ],
   "source": [
    "sample_entry = b'\\xa7A\\xa6n'\n",
    "print(sample_entry)\n",
    "print('data type:', type(sample_entry))"
   ]
  },
  {
   "cell_type": "markdown",
   "id": "054f335a",
   "metadata": {
    "papermill": {
     "duration": 0.006047,
     "end_time": "2022-06-30T19:42:18.847679",
     "exception": false,
     "start_time": "2022-06-30T19:42:18.841632",
     "status": "completed"
    },
    "tags": []
   },
   "source": [
    "You notice that it doesn't use the standard UTF-8 encoding. \n",
    "\n",
    "Use the next code cell to create a variable `new_entry` that changes the encoding from `\"big5-tw\"` to `\"utf-8\"`.  `new_entry` should have the bytes datatype."
   ]
  },
  {
   "cell_type": "code",
   "execution_count": 4,
   "id": "fa9b49ba",
   "metadata": {
    "execution": {
     "iopub.execute_input": "2022-06-30T19:42:18.861962Z",
     "iopub.status.busy": "2022-06-30T19:42:18.861648Z",
     "iopub.status.idle": "2022-06-30T19:42:18.872385Z",
     "shell.execute_reply": "2022-06-30T19:42:18.870826Z"
    },
    "papermill": {
     "duration": 0.02086,
     "end_time": "2022-06-30T19:42:18.874966",
     "exception": false,
     "start_time": "2022-06-30T19:42:18.854106",
     "status": "completed"
    },
    "tags": []
   },
   "outputs": [
    {
     "data": {
      "application/javascript": [
       "parent.postMessage({\"jupyterEvent\": \"custom.exercise_interaction\", \"data\": {\"outcomeType\": 1, \"valueTowardsCompletion\": 0.3333333333333333, \"interactionType\": 1, \"questionType\": 1, \"questionId\": \"1_EncodingsIntro\", \"learnToolsVersion\": \"0.3.4\", \"failureMessage\": \"\", \"exceptionClass\": \"\", \"trace\": \"\"}}, \"*\")"
      ],
      "text/plain": [
       "<IPython.core.display.Javascript object>"
      ]
     },
     "metadata": {},
     "output_type": "display_data"
    },
    {
     "data": {
      "text/markdown": [
       "<span style=\"color:#33cc33\">Correct</span>"
      ],
      "text/plain": [
       "Correct"
      ]
     },
     "metadata": {},
     "output_type": "display_data"
    }
   ],
   "source": [
    "new_entry = sample_entry.decode(encoding='big5-tw')#decode the sample_entry into str\n",
    "new_entry= new_entry.encode(encoding='utf-8')#encode new_entry into bytes with utf-8\n",
    "\n",
    "# Check your answer\n",
    "q1.check()"
   ]
  },
  {
   "cell_type": "code",
   "execution_count": 5,
   "id": "820b9875",
   "metadata": {
    "execution": {
     "iopub.execute_input": "2022-06-30T19:42:18.889556Z",
     "iopub.status.busy": "2022-06-30T19:42:18.889253Z",
     "iopub.status.idle": "2022-06-30T19:42:18.894018Z",
     "shell.execute_reply": "2022-06-30T19:42:18.892660Z"
    },
    "papermill": {
     "duration": 0.014981,
     "end_time": "2022-06-30T19:42:18.896447",
     "exception": false,
     "start_time": "2022-06-30T19:42:18.881466",
     "status": "completed"
    },
    "tags": []
   },
   "outputs": [],
   "source": [
    "# Lines below will give you a hint or solution code\n",
    "#q1.hint()\n",
    "#q1.solution()"
   ]
  },
  {
   "cell_type": "markdown",
   "id": "ce15d5c5",
   "metadata": {
    "papermill": {
     "duration": 0.006422,
     "end_time": "2022-06-30T19:42:18.909435",
     "exception": false,
     "start_time": "2022-06-30T19:42:18.903013",
     "status": "completed"
    },
    "tags": []
   },
   "source": [
    "# 2) Reading in files with encoding problems\n",
    "\n",
    "Use the code cell below to read in this file at path `\"../input/fatal-police-shootings-in-the-us/PoliceKillingsUS.csv\"`.  \n",
    "\n",
    "Figure out what the correct encoding should be and read in the file to a DataFrame `police_killings`."
   ]
  },
  {
   "cell_type": "code",
   "execution_count": 6,
   "id": "f07e2ea5",
   "metadata": {
    "execution": {
     "iopub.execute_input": "2022-06-30T19:42:18.923916Z",
     "iopub.status.busy": "2022-06-30T19:42:18.923609Z",
     "iopub.status.idle": "2022-06-30T19:42:19.400125Z",
     "shell.execute_reply": "2022-06-30T19:42:19.399080Z"
    },
    "papermill": {
     "duration": 0.486187,
     "end_time": "2022-06-30T19:42:19.402125",
     "exception": false,
     "start_time": "2022-06-30T19:42:18.915938",
     "status": "completed"
    },
    "tags": []
   },
   "outputs": [
    {
     "name": "stdout",
     "output_type": "stream",
     "text": [
      "{'encoding': 'Windows-1252', 'confidence': 0.73, 'language': ''}\n"
     ]
    },
    {
     "data": {
      "application/javascript": [
       "parent.postMessage({\"jupyterEvent\": \"custom.exercise_interaction\", \"data\": {\"outcomeType\": 1, \"valueTowardsCompletion\": 0.3333333333333333, \"interactionType\": 1, \"questionType\": 1, \"questionId\": \"2_ReadIn\", \"learnToolsVersion\": \"0.3.4\", \"failureMessage\": \"\", \"exceptionClass\": \"\", \"trace\": \"\"}}, \"*\")"
      ],
      "text/plain": [
       "<IPython.core.display.Javascript object>"
      ]
     },
     "metadata": {},
     "output_type": "display_data"
    },
    {
     "data": {
      "text/markdown": [
       "<span style=\"color:#33cc33\">Correct</span>"
      ],
      "text/plain": [
       "Correct"
      ]
     },
     "metadata": {},
     "output_type": "display_data"
    }
   ],
   "source": [
    "# TODO: Load in the DataFrame correctly.\n",
    "  #guess the encoding of the csv file\n",
    "with open(\"../input/fatal-police-shootings-in-the-us/PoliceKillingsUS.csv\",'rb')as f :\n",
    "     guessed_encoding=chardet.detect(f.read(30000))\n",
    "        \n",
    "print(guessed_encoding)     \n",
    "\n",
    "police_killings =pd.read_csv(\"../input/fatal-police-shootings-in-the-us/PoliceKillingsUS.csv\",encoding = 'Windows-1252' )\n",
    "                             \n",
    "\n",
    "# Check your answer\n",
    "q2.check()"
   ]
  },
  {
   "cell_type": "markdown",
   "id": "1a0c90c5",
   "metadata": {
    "papermill": {
     "duration": 0.006557,
     "end_time": "2022-06-30T19:42:19.415447",
     "exception": false,
     "start_time": "2022-06-30T19:42:19.408890",
     "status": "completed"
    },
    "tags": []
   },
   "source": [
    "Feel free to use any additional code cells for supplemental work.  To get credit for finishing this question, you'll need to run `q2.check()` and get a result of **Correct**."
   ]
  },
  {
   "cell_type": "code",
   "execution_count": 7,
   "id": "b1613eee",
   "metadata": {
    "execution": {
     "iopub.execute_input": "2022-06-30T19:42:19.430456Z",
     "iopub.status.busy": "2022-06-30T19:42:19.430141Z",
     "iopub.status.idle": "2022-06-30T19:42:19.434096Z",
     "shell.execute_reply": "2022-06-30T19:42:19.433369Z"
    },
    "papermill": {
     "duration": 0.01348,
     "end_time": "2022-06-30T19:42:19.435785",
     "exception": false,
     "start_time": "2022-06-30T19:42:19.422305",
     "status": "completed"
    },
    "tags": []
   },
   "outputs": [],
   "source": [
    "# (Optional) Use this code cell for any additional work."
   ]
  },
  {
   "cell_type": "code",
   "execution_count": 8,
   "id": "743b979c",
   "metadata": {
    "execution": {
     "iopub.execute_input": "2022-06-30T19:42:19.445750Z",
     "iopub.status.busy": "2022-06-30T19:42:19.445423Z",
     "iopub.status.idle": "2022-06-30T19:42:19.448953Z",
     "shell.execute_reply": "2022-06-30T19:42:19.448157Z"
    },
    "papermill": {
     "duration": 0.010567,
     "end_time": "2022-06-30T19:42:19.450784",
     "exception": false,
     "start_time": "2022-06-30T19:42:19.440217",
     "status": "completed"
    },
    "tags": []
   },
   "outputs": [],
   "source": [
    "# Lines below will give you a hint or solution code\n",
    "#q2.hint()\n",
    "#q2.solution()"
   ]
  },
  {
   "cell_type": "markdown",
   "id": "af1f2462",
   "metadata": {
    "papermill": {
     "duration": 0.004229,
     "end_time": "2022-06-30T19:42:19.459457",
     "exception": false,
     "start_time": "2022-06-30T19:42:19.455228",
     "status": "completed"
    },
    "tags": []
   },
   "source": [
    "# 3) Saving your files with UTF-8 encoding\n",
    "\n",
    "Save a version of the police killings dataset to CSV with UTF-8 encoding.  Your answer will be marked correct after saving this file.  \n",
    "\n",
    "Note: When using the `to_csv()` method, supply only the name of the file (e.g., `\"my_file.csv\"`).  This saves the file at the filepath `\"/kaggle/working/my_file.csv\"`."
   ]
  },
  {
   "cell_type": "code",
   "execution_count": 9,
   "id": "cc31db72",
   "metadata": {
    "execution": {
     "iopub.execute_input": "2022-06-30T19:42:19.469223Z",
     "iopub.status.busy": "2022-06-30T19:42:19.468936Z",
     "iopub.status.idle": "2022-06-30T19:42:19.510816Z",
     "shell.execute_reply": "2022-06-30T19:42:19.509744Z"
    },
    "papermill": {
     "duration": 0.049318,
     "end_time": "2022-06-30T19:42:19.513054",
     "exception": false,
     "start_time": "2022-06-30T19:42:19.463736",
     "status": "completed"
    },
    "tags": []
   },
   "outputs": [
    {
     "data": {
      "application/javascript": [
       "parent.postMessage({\"jupyterEvent\": \"custom.exercise_interaction\", \"data\": {\"outcomeType\": 1, \"valueTowardsCompletion\": 0.3333333333333333, \"interactionType\": 1, \"questionType\": 2, \"questionId\": \"3_SaveCSV\", \"learnToolsVersion\": \"0.3.4\", \"failureMessage\": \"\", \"exceptionClass\": \"\", \"trace\": \"\"}}, \"*\")"
      ],
      "text/plain": [
       "<IPython.core.display.Javascript object>"
      ]
     },
     "metadata": {},
     "output_type": "display_data"
    },
    {
     "data": {
      "text/markdown": [
       "<span style=\"color:#33cc33\">Correct</span>"
      ],
      "text/plain": [
       "Correct"
      ]
     },
     "metadata": {},
     "output_type": "display_data"
    }
   ],
   "source": [
    "# TODO: Save the police killings dataset to CSV\n",
    "police_killings.to_csv(\"my_file.csv\")\n",
    "\n",
    "# Check your answer\n",
    "q3.check()"
   ]
  },
  {
   "cell_type": "code",
   "execution_count": 10,
   "id": "dd21ce40",
   "metadata": {
    "execution": {
     "iopub.execute_input": "2022-06-30T19:42:19.528557Z",
     "iopub.status.busy": "2022-06-30T19:42:19.528216Z",
     "iopub.status.idle": "2022-06-30T19:42:19.533210Z",
     "shell.execute_reply": "2022-06-30T19:42:19.531997Z"
    },
    "papermill": {
     "duration": 0.015595,
     "end_time": "2022-06-30T19:42:19.535751",
     "exception": false,
     "start_time": "2022-06-30T19:42:19.520156",
     "status": "completed"
    },
    "tags": []
   },
   "outputs": [],
   "source": [
    "# Lines below will give you a hint or solution code\n",
    "#q3.hint()\n",
    "#q3.solution()"
   ]
  },
  {
   "cell_type": "markdown",
   "id": "0056b1fc",
   "metadata": {
    "papermill": {
     "duration": 0.007039,
     "end_time": "2022-06-30T19:42:19.550109",
     "exception": false,
     "start_time": "2022-06-30T19:42:19.543070",
     "status": "completed"
    },
    "tags": []
   },
   "source": [
    "# (Optional) More practice\n",
    "\n",
    "Check out [this dataset of files in different character encodings](https://www.kaggle.com/rtatman/character-encoding-examples). Can you read in all the files with their original encodings and them save them out as UTF-8 files?\n",
    "\n",
    "If you have a file that's in UTF-8 but has just a couple of weird-looking characters in it, you can try out the [ftfy module](https://ftfy.readthedocs.io/en/latest/#) and see if it helps. \n",
    "\n",
    "# Keep going\n",
    "\n",
    "In the final lesson, learn how to [**clean up inconsistent text entries**](https://www.kaggle.com/alexisbcook/inconsistent-data-entry) in your dataset."
   ]
  },
  {
   "cell_type": "markdown",
   "id": "4f5eef2b",
   "metadata": {
    "papermill": {
     "duration": 0.006855,
     "end_time": "2022-06-30T19:42:19.563941",
     "exception": false,
     "start_time": "2022-06-30T19:42:19.557086",
     "status": "completed"
    },
    "tags": []
   },
   "source": [
    "---\n",
    "\n",
    "\n",
    "\n",
    "\n",
    "*Have questions or comments? Visit the [course discussion forum](https://www.kaggle.com/learn/data-cleaning/discussion) to chat with other learners.*"
   ]
  }
 ],
 "metadata": {
  "kernelspec": {
   "display_name": "Python 3",
   "language": "python",
   "name": "python3"
  },
  "language_info": {
   "codemirror_mode": {
    "name": "ipython",
    "version": 3
   },
   "file_extension": ".py",
   "mimetype": "text/x-python",
   "name": "python",
   "nbconvert_exporter": "python",
   "pygments_lexer": "ipython3",
   "version": "3.7.12"
  },
  "papermill": {
   "default_parameters": {},
   "duration": 13.492298,
   "end_time": "2022-06-30T19:42:20.394114",
   "environment_variables": {},
   "exception": null,
   "input_path": "__notebook__.ipynb",
   "output_path": "__notebook__.ipynb",
   "parameters": {},
   "start_time": "2022-06-30T19:42:06.901816",
   "version": "2.3.4"
  }
 },
 "nbformat": 4,
 "nbformat_minor": 5
}
