{
 "cells": [
  {
   "cell_type": "markdown",
   "id": "11ecdfb8",
   "metadata": {
    "papermill": {
     "duration": 0.00578,
     "end_time": "2022-07-01T15:05:27.610533",
     "exception": false,
     "start_time": "2022-07-01T15:05:27.604753",
     "status": "completed"
    },
    "tags": []
   },
   "source": [
    "**This notebook is an exercise in the [Data Visualization](https://www.kaggle.com/learn/data-visualization) course.  You can reference the tutorial at [this link](https://www.kaggle.com/alexisbcook/final-project).**\n",
    "\n",
    "---\n"
   ]
  },
  {
   "cell_type": "markdown",
   "id": "191140b1",
   "metadata": {
    "papermill": {
     "duration": 0.004551,
     "end_time": "2022-07-01T15:05:27.620253",
     "exception": false,
     "start_time": "2022-07-01T15:05:27.615702",
     "status": "completed"
    },
    "tags": []
   },
   "source": [
    "Now it's time for you to demonstrate your new skills with a project of your own!\n",
    "\n",
    "In this exercise, you will work with a dataset of your choosing.  Once you've selected a dataset, you'll design and create your own plot to tell interesting stories behind the data!\n",
    "\n",
    "## Setup\n",
    "\n",
    "Run the next cell to import and configure the Python libraries that you need to complete the exercise."
   ]
  },
  {
   "cell_type": "code",
   "execution_count": 1,
   "id": "b48ec1d1",
   "metadata": {
    "execution": {
     "iopub.execute_input": "2022-07-01T15:05:27.632499Z",
     "iopub.status.busy": "2022-07-01T15:05:27.631751Z",
     "iopub.status.idle": "2022-07-01T15:05:28.896843Z",
     "shell.execute_reply": "2022-07-01T15:05:28.895398Z"
    },
    "papermill": {
     "duration": 1.276591,
     "end_time": "2022-07-01T15:05:28.901602",
     "exception": false,
     "start_time": "2022-07-01T15:05:27.625011",
     "status": "completed"
    },
    "tags": []
   },
   "outputs": [
    {
     "name": "stdout",
     "output_type": "stream",
     "text": [
      "Setup Complete\n"
     ]
    }
   ],
   "source": [
    "import pandas as pd\n",
    "pd.plotting.register_matplotlib_converters()\n",
    "import matplotlib.pyplot as plt\n",
    "%matplotlib inline\n",
    "import seaborn as sns\n",
    "print(\"Setup Complete\")"
   ]
  },
  {
   "cell_type": "markdown",
   "id": "15f75340",
   "metadata": {
    "papermill": {
     "duration": 0.004961,
     "end_time": "2022-07-01T15:05:28.912591",
     "exception": false,
     "start_time": "2022-07-01T15:05:28.907630",
     "status": "completed"
    },
    "tags": []
   },
   "source": [
    "The questions below will give you feedback on your work. Run the following cell to set up the feedback system."
   ]
  },
  {
   "cell_type": "code",
   "execution_count": 2,
   "id": "adaf304a",
   "metadata": {
    "execution": {
     "iopub.execute_input": "2022-07-01T15:05:28.926109Z",
     "iopub.status.busy": "2022-07-01T15:05:28.925152Z",
     "iopub.status.idle": "2022-07-01T15:05:28.968662Z",
     "shell.execute_reply": "2022-07-01T15:05:28.967391Z"
    },
    "papermill": {
     "duration": 0.054359,
     "end_time": "2022-07-01T15:05:28.972617",
     "exception": false,
     "start_time": "2022-07-01T15:05:28.918258",
     "status": "completed"
    },
    "tags": []
   },
   "outputs": [
    {
     "name": "stdout",
     "output_type": "stream",
     "text": [
      "Setup Complete\n"
     ]
    }
   ],
   "source": [
    "# Set up code checking\n",
    "from learntools.core import binder\n",
    "binder.bind(globals())\n",
    "from learntools.data_viz_to_coder.ex7 import *\n",
    "print(\"Setup Complete\")"
   ]
  },
  {
   "cell_type": "markdown",
   "id": "513fe1b7",
   "metadata": {
    "papermill": {
     "duration": 0.005124,
     "end_time": "2022-07-01T15:05:28.983638",
     "exception": false,
     "start_time": "2022-07-01T15:05:28.978514",
     "status": "completed"
    },
    "tags": []
   },
   "source": [
    "## Step 1: Attach a dataset to the notebook\n",
    "\n",
    "Begin by selecting a CSV dataset from [Kaggle Datasets](https://www.kaggle.com/datasets).  If you're unsure how to do this, please revisit the instructions in the previous tutorial.\n",
    "\n",
    "Once you have selected a dataset, click on the **[+ Add data]** option in the top right corner.  This will generate a pop-up window that you can use to search for your chosen dataset.  \n",
    "\n",
    "![ex6_search_dataset](https://i.imgur.com/cIIWPUS.png)\n",
    "\n",
    "Once you have found the dataset, click on the **[Add]** button to attach it to the notebook.  You can check that it was successful by looking at the **Data** dropdown menu to the right of the notebook -- look for an **input** folder containing a subfolder that matches the name of the dataset.\n",
    "\n",
    "<center>\n",
    "<img src=\"https://i.imgur.com/nMYc1Nu.png\" width=30%><br/>\n",
    "</center>\n",
    "\n",
    "You can click on the carat to the left of the name of the dataset to double-check that it contains a CSV file.  For instance, the image below shows that the example dataset contains two CSV files: (1) **dc-wikia-data.csv**, and (2) **marvel-wikia-data.csv**.\n",
    "\n",
    "<center>\n",
    "<img src=\"https://i.imgur.com/B4sJkVA.png\" width=30%><br/>\n",
    "</center>\n",
    "\n",
    "Once you've uploaded a dataset with a CSV file, run the code cell below **without changes** to receive credit for your work!"
   ]
  },
  {
   "cell_type": "code",
   "execution_count": 3,
   "id": "f3ed437b",
   "metadata": {
    "execution": {
     "iopub.execute_input": "2022-07-01T15:05:28.996527Z",
     "iopub.status.busy": "2022-07-01T15:05:28.996004Z",
     "iopub.status.idle": "2022-07-01T15:05:29.381601Z",
     "shell.execute_reply": "2022-07-01T15:05:29.380342Z"
    },
    "papermill": {
     "duration": 0.395651,
     "end_time": "2022-07-01T15:05:29.384740",
     "exception": false,
     "start_time": "2022-07-01T15:05:28.989089",
     "status": "completed"
    },
    "tags": []
   },
   "outputs": [
    {
     "data": {
      "application/javascript": [
       "parent.postMessage({\"jupyterEvent\": \"custom.exercise_interaction\", \"data\": {\"outcomeType\": 1, \"valueTowardsCompletion\": 0.25, \"interactionType\": 1, \"questionType\": 2, \"questionId\": \"1_AttachData\", \"learnToolsVersion\": \"0.3.4\", \"failureMessage\": \"\", \"exceptionClass\": \"\", \"trace\": \"\"}}, \"*\")"
      ],
      "text/plain": [
       "<IPython.core.display.Javascript object>"
      ]
     },
     "metadata": {},
     "output_type": "display_data"
    },
    {
     "data": {
      "text/markdown": [
       "<span style=\"color:#33cc33\">Correct:</span> \n",
       "\n"
      ],
      "text/plain": [
       "Correct: \n"
      ]
     },
     "metadata": {},
     "output_type": "display_data"
    }
   ],
   "source": [
    "data_path=\"../input/nasa-nearest-earth-objects/neo.csv\"\n",
    "nasa_nearest_earth_data=pd.read_csv(data_path)\n",
    "# Check for a dataset with a CSV file\n",
    "step_1.check()"
   ]
  },
  {
   "cell_type": "markdown",
   "id": "9ea2699e",
   "metadata": {
    "papermill": {
     "duration": 0.005194,
     "end_time": "2022-07-01T15:05:29.395636",
     "exception": false,
     "start_time": "2022-07-01T15:05:29.390442",
     "status": "completed"
    },
    "tags": []
   },
   "source": [
    "## Step 2: Specify the filepath\n",
    "\n",
    "Now that the dataset is attached to the notebook, you can find its filepath.  To do this, begin by clicking on the CSV file you'd like to use.  This will open the CSV file in a tab below the notebook.  You can find the filepath towards the top of this new tab.  \n",
    "\n",
    "![ex6_filepath](https://i.imgur.com/fgXQV47.png)\n",
    "\n",
    "After you find the filepath corresponding to your dataset, fill it in as the value for `my_filepath` in the code cell below, and run the code cell to check that you've provided a valid filepath.  For instance, in the case of this example dataset, we would set\n",
    "```\n",
    "my_filepath = \"../input/fivethirtyeight-comic-characters-dataset/dc-wikia-data.csv\"\n",
    "```  \n",
    "Note that **you must enclose the filepath in quotation marks**; otherwise, the code will return an error.\n",
    "\n",
    "Once you've entered the filepath, you can close the tab below the notebook by clicking on the **[X]** at the top of the tab."
   ]
  },
  {
   "cell_type": "code",
   "execution_count": 4,
   "id": "b93df9ca",
   "metadata": {
    "execution": {
     "iopub.execute_input": "2022-07-01T15:05:29.409561Z",
     "iopub.status.busy": "2022-07-01T15:05:29.408680Z",
     "iopub.status.idle": "2022-07-01T15:05:29.419313Z",
     "shell.execute_reply": "2022-07-01T15:05:29.418145Z"
    },
    "papermill": {
     "duration": 0.020304,
     "end_time": "2022-07-01T15:05:29.421633",
     "exception": false,
     "start_time": "2022-07-01T15:05:29.401329",
     "status": "completed"
    },
    "tags": []
   },
   "outputs": [
    {
     "data": {
      "application/javascript": [
       "parent.postMessage({\"jupyterEvent\": \"custom.exercise_interaction\", \"data\": {\"outcomeType\": 1, \"valueTowardsCompletion\": 0.25, \"interactionType\": 1, \"questionType\": 2, \"questionId\": \"2_Filepath\", \"learnToolsVersion\": \"0.3.4\", \"failureMessage\": \"\", \"exceptionClass\": \"\", \"trace\": \"\"}}, \"*\")"
      ],
      "text/plain": [
       "<IPython.core.display.Javascript object>"
      ]
     },
     "metadata": {},
     "output_type": "display_data"
    },
    {
     "data": {
      "text/markdown": [
       "<span style=\"color:#33cc33\">Correct:</span> \n",
       "\n"
      ],
      "text/plain": [
       "Correct: \n"
      ]
     },
     "metadata": {},
     "output_type": "display_data"
    }
   ],
   "source": [
    "# Fill in the line below: Specify the path of the CSV file to read\n",
    "my_filepath = \"../input/nasa-nearest-earth-objects/neo.csv\"\n",
    "\n",
    "# Check for a valid filepath to a CSV file in a dataset\n",
    "step_2.check()"
   ]
  },
  {
   "cell_type": "markdown",
   "id": "4225e997",
   "metadata": {
    "papermill": {
     "duration": 0.005217,
     "end_time": "2022-07-01T15:05:29.432280",
     "exception": false,
     "start_time": "2022-07-01T15:05:29.427063",
     "status": "completed"
    },
    "tags": []
   },
   "source": [
    "## Step 3: Load the data\n",
    "\n",
    "Use the next code cell to load your data file into `my_data`.  Use the filepath that you specified in the previous step."
   ]
  },
  {
   "cell_type": "code",
   "execution_count": 5,
   "id": "c3c22361",
   "metadata": {
    "execution": {
     "iopub.execute_input": "2022-07-01T15:05:29.446125Z",
     "iopub.status.busy": "2022-07-01T15:05:29.445310Z",
     "iopub.status.idle": "2022-07-01T15:05:29.675623Z",
     "shell.execute_reply": "2022-07-01T15:05:29.674369Z"
    },
    "papermill": {
     "duration": 0.240257,
     "end_time": "2022-07-01T15:05:29.678167",
     "exception": false,
     "start_time": "2022-07-01T15:05:29.437910",
     "status": "completed"
    },
    "tags": []
   },
   "outputs": [
    {
     "data": {
      "application/javascript": [
       "parent.postMessage({\"jupyterEvent\": \"custom.exercise_interaction\", \"data\": {\"outcomeType\": 1, \"valueTowardsCompletion\": 0.25, \"interactionType\": 1, \"questionType\": 2, \"questionId\": \"3_LoadData\", \"learnToolsVersion\": \"0.3.4\", \"failureMessage\": \"\", \"exceptionClass\": \"\", \"trace\": \"\"}}, \"*\")"
      ],
      "text/plain": [
       "<IPython.core.display.Javascript object>"
      ]
     },
     "metadata": {},
     "output_type": "display_data"
    },
    {
     "data": {
      "text/markdown": [
       "<span style=\"color:#33cc33\">Correct:</span> \n",
       "\n"
      ],
      "text/plain": [
       "Correct: \n"
      ]
     },
     "metadata": {},
     "output_type": "display_data"
    }
   ],
   "source": [
    "# Fill in the line below: Read the file into a variable my_data\n",
    "my_data = pd.read_csv(my_filepath,index_col=\"id\")\n",
    "\n",
    "# Check that a dataset has been uploaded into my_data\n",
    "step_3.check()"
   ]
  },
  {
   "cell_type": "markdown",
   "id": "83f018d7",
   "metadata": {
    "papermill": {
     "duration": 0.00561,
     "end_time": "2022-07-01T15:05:29.689776",
     "exception": false,
     "start_time": "2022-07-01T15:05:29.684166",
     "status": "completed"
    },
    "tags": []
   },
   "source": [
    "**_After the code cell above is marked correct_**, run the code cell below without changes to view the first five rows of the data."
   ]
  },
  {
   "cell_type": "code",
   "execution_count": 6,
   "id": "81af8bee",
   "metadata": {
    "execution": {
     "iopub.execute_input": "2022-07-01T15:05:29.704405Z",
     "iopub.status.busy": "2022-07-01T15:05:29.703002Z",
     "iopub.status.idle": "2022-07-01T15:05:29.727212Z",
     "shell.execute_reply": "2022-07-01T15:05:29.725879Z"
    },
    "papermill": {
     "duration": 0.034404,
     "end_time": "2022-07-01T15:05:29.729944",
     "exception": false,
     "start_time": "2022-07-01T15:05:29.695540",
     "status": "completed"
    },
    "tags": []
   },
   "outputs": [
    {
     "data": {
      "text/html": [
       "<div>\n",
       "<style scoped>\n",
       "    .dataframe tbody tr th:only-of-type {\n",
       "        vertical-align: middle;\n",
       "    }\n",
       "\n",
       "    .dataframe tbody tr th {\n",
       "        vertical-align: top;\n",
       "    }\n",
       "\n",
       "    .dataframe thead th {\n",
       "        text-align: right;\n",
       "    }\n",
       "</style>\n",
       "<table border=\"1\" class=\"dataframe\">\n",
       "  <thead>\n",
       "    <tr style=\"text-align: right;\">\n",
       "      <th></th>\n",
       "      <th>name</th>\n",
       "      <th>est_diameter_min</th>\n",
       "      <th>est_diameter_max</th>\n",
       "      <th>relative_velocity</th>\n",
       "      <th>miss_distance</th>\n",
       "      <th>orbiting_body</th>\n",
       "      <th>sentry_object</th>\n",
       "      <th>absolute_magnitude</th>\n",
       "      <th>hazardous</th>\n",
       "    </tr>\n",
       "    <tr>\n",
       "      <th>id</th>\n",
       "      <th></th>\n",
       "      <th></th>\n",
       "      <th></th>\n",
       "      <th></th>\n",
       "      <th></th>\n",
       "      <th></th>\n",
       "      <th></th>\n",
       "      <th></th>\n",
       "      <th></th>\n",
       "    </tr>\n",
       "  </thead>\n",
       "  <tbody>\n",
       "    <tr>\n",
       "      <th>2162635</th>\n",
       "      <td>162635 (2000 SS164)</td>\n",
       "      <td>1.198271</td>\n",
       "      <td>2.679415</td>\n",
       "      <td>13569.249224</td>\n",
       "      <td>5.483974e+07</td>\n",
       "      <td>Earth</td>\n",
       "      <td>False</td>\n",
       "      <td>16.73</td>\n",
       "      <td>False</td>\n",
       "    </tr>\n",
       "    <tr>\n",
       "      <th>2277475</th>\n",
       "      <td>277475 (2005 WK4)</td>\n",
       "      <td>0.265800</td>\n",
       "      <td>0.594347</td>\n",
       "      <td>73588.726663</td>\n",
       "      <td>6.143813e+07</td>\n",
       "      <td>Earth</td>\n",
       "      <td>False</td>\n",
       "      <td>20.00</td>\n",
       "      <td>True</td>\n",
       "    </tr>\n",
       "    <tr>\n",
       "      <th>2512244</th>\n",
       "      <td>512244 (2015 YE18)</td>\n",
       "      <td>0.722030</td>\n",
       "      <td>1.614507</td>\n",
       "      <td>114258.692129</td>\n",
       "      <td>4.979872e+07</td>\n",
       "      <td>Earth</td>\n",
       "      <td>False</td>\n",
       "      <td>17.83</td>\n",
       "      <td>False</td>\n",
       "    </tr>\n",
       "    <tr>\n",
       "      <th>3596030</th>\n",
       "      <td>(2012 BV13)</td>\n",
       "      <td>0.096506</td>\n",
       "      <td>0.215794</td>\n",
       "      <td>24764.303138</td>\n",
       "      <td>2.543497e+07</td>\n",
       "      <td>Earth</td>\n",
       "      <td>False</td>\n",
       "      <td>22.20</td>\n",
       "      <td>False</td>\n",
       "    </tr>\n",
       "    <tr>\n",
       "      <th>3667127</th>\n",
       "      <td>(2014 GE35)</td>\n",
       "      <td>0.255009</td>\n",
       "      <td>0.570217</td>\n",
       "      <td>42737.733765</td>\n",
       "      <td>4.627557e+07</td>\n",
       "      <td>Earth</td>\n",
       "      <td>False</td>\n",
       "      <td>20.09</td>\n",
       "      <td>True</td>\n",
       "    </tr>\n",
       "  </tbody>\n",
       "</table>\n",
       "</div>"
      ],
      "text/plain": [
       "                        name  est_diameter_min  est_diameter_max  \\\n",
       "id                                                                 \n",
       "2162635  162635 (2000 SS164)          1.198271          2.679415   \n",
       "2277475    277475 (2005 WK4)          0.265800          0.594347   \n",
       "2512244   512244 (2015 YE18)          0.722030          1.614507   \n",
       "3596030          (2012 BV13)          0.096506          0.215794   \n",
       "3667127          (2014 GE35)          0.255009          0.570217   \n",
       "\n",
       "         relative_velocity  miss_distance orbiting_body  sentry_object  \\\n",
       "id                                                                       \n",
       "2162635       13569.249224   5.483974e+07         Earth          False   \n",
       "2277475       73588.726663   6.143813e+07         Earth          False   \n",
       "2512244      114258.692129   4.979872e+07         Earth          False   \n",
       "3596030       24764.303138   2.543497e+07         Earth          False   \n",
       "3667127       42737.733765   4.627557e+07         Earth          False   \n",
       "\n",
       "         absolute_magnitude  hazardous  \n",
       "id                                      \n",
       "2162635               16.73      False  \n",
       "2277475               20.00       True  \n",
       "2512244               17.83      False  \n",
       "3596030               22.20      False  \n",
       "3667127               20.09       True  "
      ]
     },
     "execution_count": 6,
     "metadata": {},
     "output_type": "execute_result"
    }
   ],
   "source": [
    "# Print the first five rows of the data\n",
    "my_data.head()"
   ]
  },
  {
   "cell_type": "markdown",
   "id": "8c718294",
   "metadata": {
    "papermill": {
     "duration": 0.006026,
     "end_time": "2022-07-01T15:05:29.742086",
     "exception": false,
     "start_time": "2022-07-01T15:05:29.736060",
     "status": "completed"
    },
    "tags": []
   },
   "source": [
    "## Step 4: Visualize the data\n",
    "\n",
    "Use the next code cell to create a figure that tells a story behind your dataset.  You can use any chart type (_line chart, bar chart, heatmap, etc_) of your choosing!"
   ]
  },
  {
   "cell_type": "code",
   "execution_count": 7,
   "id": "55cb3ae0",
   "metadata": {
    "execution": {
     "iopub.execute_input": "2022-07-01T15:05:29.757303Z",
     "iopub.status.busy": "2022-07-01T15:05:29.756474Z",
     "iopub.status.idle": "2022-07-01T15:05:29.970520Z",
     "shell.execute_reply": "2022-07-01T15:05:29.969140Z"
    },
    "papermill": {
     "duration": 0.225157,
     "end_time": "2022-07-01T15:05:29.973463",
     "exception": false,
     "start_time": "2022-07-01T15:05:29.748306",
     "status": "completed"
    },
    "tags": []
   },
   "outputs": [
    {
     "data": {
      "application/javascript": [
       "parent.postMessage({\"jupyterEvent\": \"custom.exercise_interaction\", \"data\": {\"outcomeType\": 1, \"valueTowardsCompletion\": 0.25, \"interactionType\": 1, \"questionType\": 2, \"questionId\": \"4_CreatePlot\", \"learnToolsVersion\": \"0.3.4\", \"failureMessage\": \"\", \"exceptionClass\": \"\", \"trace\": \"\"}}, \"*\")"
      ],
      "text/plain": [
       "<IPython.core.display.Javascript object>"
      ]
     },
     "metadata": {},
     "output_type": "display_data"
    },
    {
     "data": {
      "text/markdown": [
       "<span style=\"color:#33cc33\">Correct:</span> \n",
       "\n"
      ],
      "text/plain": [
       "Correct: \n"
      ]
     },
     "metadata": {},
     "output_type": "display_data"
    },
    {
     "data": {
      "image/png": "[encoded data removed]",
      "text/plain": [
       "<Figure size 432x288 with 1 Axes>"
      ]
     },
     "metadata": {
      "needs_background": "light"
     },
     "output_type": "display_data"
    }
   ],
   "source": [
    "# Create a plot\n",
    "____ # Your code here\n",
    "sns.swarmplot(x=my_data['hazardous'][1:100],y=my_data['miss_distance'][1:100])\n",
    "# Check that a figure appears below\n",
    "step_4.check()"
   ]
  },
  {
   "cell_type": "markdown",
   "id": "568468cf",
   "metadata": {
    "papermill": {
     "duration": 0.006706,
     "end_time": "2022-07-01T15:05:29.987070",
     "exception": false,
     "start_time": "2022-07-01T15:05:29.980364",
     "status": "completed"
    },
    "tags": []
   },
   "source": [
    "## Keep going\n",
    "\n",
    "Learn how to use your skills after completing the micro-course to create data visualizations in a **[final tutorial](https://www.kaggle.com/alexisbcook/creating-your-own-notebooks)**."
   ]
  },
  {
   "cell_type": "markdown",
   "id": "a7bb13bf",
   "metadata": {
    "papermill": {
     "duration": 0.006408,
     "end_time": "2022-07-01T15:05:30.000596",
     "exception": false,
     "start_time": "2022-07-01T15:05:29.994188",
     "status": "completed"
    },
    "tags": []
   },
   "source": [
    "---\n",
    "\n",
    "\n",
    "\n",
    "\n",
    "*Have questions or comments? Visit the [course discussion forum](https://www.kaggle.com/learn/data-visualization/discussion) to chat with other learners.*"
   ]
  }
 ],
 "metadata": {
  "kernelspec": {
   "display_name": "Python 3",
   "language": "python",
   "name": "python3"
  },
  "language_info": {
   "codemirror_mode": {
    "name": "ipython",
    "version": 3
   },
   "file_extension": ".py",
   "mimetype": "text/x-python",
   "name": "python",
   "nbconvert_exporter": "python",
   "pygments_lexer": "ipython3",
   "version": "3.7.12"
  },
  "papermill": {
   "default_parameters": {},
   "duration": 15.671155,
   "end_time": "2022-07-01T15:05:31.032758",
   "environment_variables": {},
   "exception": null,
   "input_path": "__notebook__.ipynb",
   "output_path": "__notebook__.ipynb",
   "parameters": {},
   "start_time": "2022-07-01T15:05:15.361603",
   "version": "2.3.4"
  }
 },
 "nbformat": 4,
 "nbformat_minor": 5
}
