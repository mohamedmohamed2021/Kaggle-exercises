{
 "cells": [
  {
   "cell_type": "markdown",
   "id": "fc5f261f",
   "metadata": {
    "papermill": {
     "duration": 0.011092,
     "end_time": "2022-07-01T10:55:14.967050",
     "exception": false,
     "start_time": "2022-07-01T10:55:14.955958",
     "status": "completed"
    },
    "tags": []
   },
   "source": [
    "**This notebook is an exercise in the [Data Visualization](https://www.kaggle.com/learn/data-visualization) course.  You can reference the tutorial at [this link](https://www.kaggle.com/alexisbcook/scatter-plots).**\n",
    "\n",
    "---\n"
   ]
  },
  {
   "cell_type": "markdown",
   "id": "2a8a7b88",
   "metadata": {
    "papermill": {
     "duration": 0.009621,
     "end_time": "2022-07-01T10:55:14.986804",
     "exception": false,
     "start_time": "2022-07-01T10:55:14.977183",
     "status": "completed"
    },
    "tags": []
   },
   "source": [
    "In this exercise, you will use your new knowledge to propose a solution to a real-world scenario.  To succeed, you will need to import data into Python, answer questions using the data, and generate **scatter plots** to understand patterns in the data.\n",
    "\n",
    "## Scenario\n",
    "\n",
    "You work for a major candy producer, and your goal is to write a report that your company can use to guide the design of its next product.  Soon after starting your research, you stumble across this [very interesting dataset](https://fivethirtyeight.com/features/the-ultimate-halloween-candy-power-ranking/) containing results from a fun survey to crowdsource favorite candies.\n",
    "\n",
    "## Setup\n",
    "\n",
    "Run the next cell to import and configure the Python libraries that you need to complete the exercise."
   ]
  },
  {
   "cell_type": "code",
   "execution_count": 1,
   "id": "1193ee4a",
   "metadata": {
    "execution": {
     "iopub.execute_input": "2022-07-01T10:55:15.008985Z",
     "iopub.status.busy": "2022-07-01T10:55:15.008494Z",
     "iopub.status.idle": "2022-07-01T10:55:16.238628Z",
     "shell.execute_reply": "2022-07-01T10:55:16.237446Z"
    },
    "papermill": {
     "duration": 1.243871,
     "end_time": "2022-07-01T10:55:16.240997",
     "exception": false,
     "start_time": "2022-07-01T10:55:14.997126",
     "status": "completed"
    },
    "tags": []
   },
   "outputs": [
    {
     "name": "stdout",
     "output_type": "stream",
     "text": [
      "Setup Complete\n"
     ]
    }
   ],
   "source": [
    "import pandas as pd\n",
    "pd.plotting.register_matplotlib_converters()\n",
    "import matplotlib.pyplot as plt\n",
    "%matplotlib inline\n",
    "import seaborn as sns\n",
    "print(\"Setup Complete\")"
   ]
  },
  {
   "cell_type": "markdown",
   "id": "56e686ef",
   "metadata": {
    "papermill": {
     "duration": 0.009853,
     "end_time": "2022-07-01T10:55:16.261055",
     "exception": false,
     "start_time": "2022-07-01T10:55:16.251202",
     "status": "completed"
    },
    "tags": []
   },
   "source": [
    "The questions below will give you feedback on your work. Run the following cell to set up our feedback system."
   ]
  },
  {
   "cell_type": "code",
   "execution_count": 2,
   "id": "717de9d8",
   "metadata": {
    "execution": {
     "iopub.execute_input": "2022-07-01T10:55:16.283707Z",
     "iopub.status.busy": "2022-07-01T10:55:16.283259Z",
     "iopub.status.idle": "2022-07-01T10:55:16.356856Z",
     "shell.execute_reply": "2022-07-01T10:55:16.355551Z"
    },
    "papermill": {
     "duration": 0.087988,
     "end_time": "2022-07-01T10:55:16.359286",
     "exception": false,
     "start_time": "2022-07-01T10:55:16.271298",
     "status": "completed"
    },
    "tags": []
   },
   "outputs": [
    {
     "name": "stdout",
     "output_type": "stream",
     "text": [
      "Setup Complete\n"
     ]
    }
   ],
   "source": [
    "# Set up code checking\n",
    "import os\n",
    "if not os.path.exists(\"../input/candy.csv\"):\n",
    "    os.symlink(\"../input/data-for-datavis/candy.csv\", \"../input/candy.csv\") \n",
    "from learntools.core import binder\n",
    "binder.bind(globals())\n",
    "from learntools.data_viz_to_coder.ex4 import *\n",
    "print(\"Setup Complete\")"
   ]
  },
  {
   "cell_type": "markdown",
   "id": "c6ee1161",
   "metadata": {
    "papermill": {
     "duration": 0.009956,
     "end_time": "2022-07-01T10:55:16.379637",
     "exception": false,
     "start_time": "2022-07-01T10:55:16.369681",
     "status": "completed"
    },
    "tags": []
   },
   "source": [
    "## Step 1: Load the Data\n",
    "\n",
    "Read the candy data file into `candy_data`.  Use the `\"id\"` column to label the rows."
   ]
  },
  {
   "cell_type": "code",
   "execution_count": 3,
   "id": "72b323ad",
   "metadata": {
    "execution": {
     "iopub.execute_input": "2022-07-01T10:55:16.401976Z",
     "iopub.status.busy": "2022-07-01T10:55:16.401038Z",
     "iopub.status.idle": "2022-07-01T10:55:16.416777Z",
     "shell.execute_reply": "2022-07-01T10:55:16.415941Z"
    },
    "papermill": {
     "duration": 0.029036,
     "end_time": "2022-07-01T10:55:16.418903",
     "exception": false,
     "start_time": "2022-07-01T10:55:16.389867",
     "status": "completed"
    },
    "tags": []
   },
   "outputs": [
    {
     "data": {
      "application/javascript": [
       "parent.postMessage({\"jupyterEvent\": \"custom.exercise_interaction\", \"data\": {\"outcomeType\": 1, \"valueTowardsCompletion\": 0.3333333333333333, \"interactionType\": 1, \"questionType\": 1, \"questionId\": \"1_LoadData\", \"learnToolsVersion\": \"0.3.4\", \"failureMessage\": \"\", \"exceptionClass\": \"\", \"trace\": \"\"}}, \"*\")"
      ],
      "text/plain": [
       "<IPython.core.display.Javascript object>"
      ]
     },
     "metadata": {},
     "output_type": "display_data"
    },
    {
     "data": {
      "text/markdown": [
       "<span style=\"color:#33cc33\">Correct</span>"
      ],
      "text/plain": [
       "Correct"
      ]
     },
     "metadata": {},
     "output_type": "display_data"
    }
   ],
   "source": [
    "# Path of the file to read\n",
    "candy_filepath = \"../input/candy.csv\"\n",
    "\n",
    "# Fill in the line below to read the file into a variable candy_data\n",
    "candy_data = pd.read_csv(candy_filepath,index_col=\"id\")\n",
    "# Run the line below with no changes to check that you've loaded the data correctly\n",
    "step_1.check()"
   ]
  },
  {
   "cell_type": "code",
   "execution_count": 4,
   "id": "73c78524",
   "metadata": {
    "execution": {
     "iopub.execute_input": "2022-07-01T10:55:16.442487Z",
     "iopub.status.busy": "2022-07-01T10:55:16.442059Z",
     "iopub.status.idle": "2022-07-01T10:55:16.445819Z",
     "shell.execute_reply": "2022-07-01T10:55:16.445055Z"
    },
    "papermill": {
     "duration": 0.017662,
     "end_time": "2022-07-01T10:55:16.447736",
     "exception": false,
     "start_time": "2022-07-01T10:55:16.430074",
     "status": "completed"
    },
    "tags": []
   },
   "outputs": [],
   "source": [
    "# Lines below will give you a hint or solution code\n",
    "#step_1.hint()\n",
    "#step_1.solution()"
   ]
  },
  {
   "cell_type": "markdown",
   "id": "b8a6e323",
   "metadata": {
    "papermill": {
     "duration": 0.010103,
     "end_time": "2022-07-01T10:55:16.468844",
     "exception": false,
     "start_time": "2022-07-01T10:55:16.458741",
     "status": "completed"
    },
    "tags": []
   },
   "source": [
    "## Step 2: Review the data\n",
    "\n",
    "Use a Python command to print the first five rows of the data."
   ]
  },
  {
   "cell_type": "code",
   "execution_count": 5,
   "id": "2f116780",
   "metadata": {
    "execution": {
     "iopub.execute_input": "2022-07-01T10:55:16.491591Z",
     "iopub.status.busy": "2022-07-01T10:55:16.490854Z",
     "iopub.status.idle": "2022-07-01T10:55:16.512636Z",
     "shell.execute_reply": "2022-07-01T10:55:16.511813Z"
    },
    "papermill": {
     "duration": 0.036145,
     "end_time": "2022-07-01T10:55:16.515364",
     "exception": false,
     "start_time": "2022-07-01T10:55:16.479219",
     "status": "completed"
    },
    "tags": []
   },
   "outputs": [
    {
     "data": {
      "text/html": [
       "<div>\n",
       "<style scoped>\n",
       "    .dataframe tbody tr th:only-of-type {\n",
       "        vertical-align: middle;\n",
       "    }\n",
       "\n",
       "    .dataframe tbody tr th {\n",
       "        vertical-align: top;\n",
       "    }\n",
       "\n",
       "    .dataframe thead th {\n",
       "        text-align: right;\n",
       "    }\n",
       "</style>\n",
       "<table border=\"1\" class=\"dataframe\">\n",
       "  <thead>\n",
       "    <tr style=\"text-align: right;\">\n",
       "      <th></th>\n",
       "      <th>competitorname</th>\n",
       "      <th>chocolate</th>\n",
       "      <th>fruity</th>\n",
       "      <th>caramel</th>\n",
       "      <th>peanutyalmondy</th>\n",
       "      <th>nougat</th>\n",
       "      <th>crispedricewafer</th>\n",
       "      <th>hard</th>\n",
       "      <th>bar</th>\n",
       "      <th>pluribus</th>\n",
       "      <th>sugarpercent</th>\n",
       "      <th>pricepercent</th>\n",
       "      <th>winpercent</th>\n",
       "    </tr>\n",
       "    <tr>\n",
       "      <th>id</th>\n",
       "      <th></th>\n",
       "      <th></th>\n",
       "      <th></th>\n",
       "      <th></th>\n",
       "      <th></th>\n",
       "      <th></th>\n",
       "      <th></th>\n",
       "      <th></th>\n",
       "      <th></th>\n",
       "      <th></th>\n",
       "      <th></th>\n",
       "      <th></th>\n",
       "      <th></th>\n",
       "    </tr>\n",
       "  </thead>\n",
       "  <tbody>\n",
       "    <tr>\n",
       "      <th>0</th>\n",
       "      <td>100 Grand</td>\n",
       "      <td>Yes</td>\n",
       "      <td>No</td>\n",
       "      <td>Yes</td>\n",
       "      <td>No</td>\n",
       "      <td>No</td>\n",
       "      <td>Yes</td>\n",
       "      <td>No</td>\n",
       "      <td>Yes</td>\n",
       "      <td>No</td>\n",
       "      <td>0.732</td>\n",
       "      <td>0.860</td>\n",
       "      <td>66.971725</td>\n",
       "    </tr>\n",
       "    <tr>\n",
       "      <th>1</th>\n",
       "      <td>3 Musketeers</td>\n",
       "      <td>Yes</td>\n",
       "      <td>No</td>\n",
       "      <td>No</td>\n",
       "      <td>No</td>\n",
       "      <td>Yes</td>\n",
       "      <td>No</td>\n",
       "      <td>No</td>\n",
       "      <td>Yes</td>\n",
       "      <td>No</td>\n",
       "      <td>0.604</td>\n",
       "      <td>0.511</td>\n",
       "      <td>67.602936</td>\n",
       "    </tr>\n",
       "    <tr>\n",
       "      <th>2</th>\n",
       "      <td>Air Heads</td>\n",
       "      <td>No</td>\n",
       "      <td>Yes</td>\n",
       "      <td>No</td>\n",
       "      <td>No</td>\n",
       "      <td>No</td>\n",
       "      <td>No</td>\n",
       "      <td>No</td>\n",
       "      <td>No</td>\n",
       "      <td>No</td>\n",
       "      <td>0.906</td>\n",
       "      <td>0.511</td>\n",
       "      <td>52.341465</td>\n",
       "    </tr>\n",
       "    <tr>\n",
       "      <th>3</th>\n",
       "      <td>Almond Joy</td>\n",
       "      <td>Yes</td>\n",
       "      <td>No</td>\n",
       "      <td>No</td>\n",
       "      <td>Yes</td>\n",
       "      <td>No</td>\n",
       "      <td>No</td>\n",
       "      <td>No</td>\n",
       "      <td>Yes</td>\n",
       "      <td>No</td>\n",
       "      <td>0.465</td>\n",
       "      <td>0.767</td>\n",
       "      <td>50.347546</td>\n",
       "    </tr>\n",
       "    <tr>\n",
       "      <th>4</th>\n",
       "      <td>Baby Ruth</td>\n",
       "      <td>Yes</td>\n",
       "      <td>No</td>\n",
       "      <td>Yes</td>\n",
       "      <td>Yes</td>\n",
       "      <td>Yes</td>\n",
       "      <td>No</td>\n",
       "      <td>No</td>\n",
       "      <td>Yes</td>\n",
       "      <td>No</td>\n",
       "      <td>0.604</td>\n",
       "      <td>0.767</td>\n",
       "      <td>56.914547</td>\n",
       "    </tr>\n",
       "  </tbody>\n",
       "</table>\n",
       "</div>"
      ],
      "text/plain": [
       "   competitorname chocolate fruity caramel peanutyalmondy nougat  \\\n",
       "id                                                                 \n",
       "0       100 Grand       Yes     No     Yes             No     No   \n",
       "1    3 Musketeers       Yes     No      No             No    Yes   \n",
       "2       Air Heads        No    Yes      No             No     No   \n",
       "3      Almond Joy       Yes     No      No            Yes     No   \n",
       "4       Baby Ruth       Yes     No     Yes            Yes    Yes   \n",
       "\n",
       "   crispedricewafer hard  bar pluribus  sugarpercent  pricepercent  winpercent  \n",
       "id                                                                              \n",
       "0               Yes   No  Yes       No         0.732         0.860   66.971725  \n",
       "1                No   No  Yes       No         0.604         0.511   67.602936  \n",
       "2                No   No   No       No         0.906         0.511   52.341465  \n",
       "3                No   No  Yes       No         0.465         0.767   50.347546  \n",
       "4                No   No  Yes       No         0.604         0.767   56.914547  "
      ]
     },
     "execution_count": 5,
     "metadata": {},
     "output_type": "execute_result"
    }
   ],
   "source": [
    "# Print the first five rows of the data\n",
    "____ # Your code here\n",
    "candy_data.head()"
   ]
  },
  {
   "cell_type": "markdown",
   "id": "53941c30",
   "metadata": {
    "papermill": {
     "duration": 0.01052,
     "end_time": "2022-07-01T10:55:16.536837",
     "exception": false,
     "start_time": "2022-07-01T10:55:16.526317",
     "status": "completed"
    },
    "tags": []
   },
   "source": [
    "The dataset contains 83 rows, where each corresponds to a different candy bar.  There are 13 columns:\n",
    "- `'competitorname'` contains the name of the candy bar. \n",
    "- the next **9** columns (from `'chocolate'` to `'pluribus'`) describe the candy.  For instance, rows with chocolate candies have `\"Yes\"` in the `'chocolate'` column (and candies without chocolate have `\"No\"` in the same column).\n",
    "- `'sugarpercent'` provides some indication of the amount of sugar, where higher values signify higher sugar content.\n",
    "- `'pricepercent'` shows the price per unit, relative to the other candies in the dataset.\n",
    "- `'winpercent'` is calculated from the survey results; higher values indicate that the candy was more popular with survey respondents.\n",
    "\n",
    "Use the first five rows of the data to answer the questions below."
   ]
  },
  {
   "cell_type": "code",
   "execution_count": 6,
   "id": "c20c730a",
   "metadata": {
    "execution": {
     "iopub.execute_input": "2022-07-01T10:55:16.560524Z",
     "iopub.status.busy": "2022-07-01T10:55:16.560076Z",
     "iopub.status.idle": "2022-07-01T10:55:16.567999Z",
     "shell.execute_reply": "2022-07-01T10:55:16.567152Z"
    },
    "papermill": {
     "duration": 0.022309,
     "end_time": "2022-07-01T10:55:16.570018",
     "exception": false,
     "start_time": "2022-07-01T10:55:16.547709",
     "status": "completed"
    },
    "tags": []
   },
   "outputs": [
    {
     "data": {
      "application/javascript": [
       "parent.postMessage({\"jupyterEvent\": \"custom.exercise_interaction\", \"data\": {\"outcomeType\": 1, \"valueTowardsCompletion\": 0.3333333333333333, \"interactionType\": 1, \"questionType\": 1, \"questionId\": \"2_ReviewData\", \"learnToolsVersion\": \"0.3.4\", \"failureMessage\": \"\", \"exceptionClass\": \"\", \"trace\": \"\"}}, \"*\")"
      ],
      "text/plain": [
       "<IPython.core.display.Javascript object>"
      ]
     },
     "metadata": {},
     "output_type": "display_data"
    },
    {
     "data": {
      "text/markdown": [
       "<span style=\"color:#33cc33\">Correct</span>"
      ],
      "text/plain": [
       "Correct"
      ]
     },
     "metadata": {},
     "output_type": "display_data"
    }
   ],
   "source": [
    "# Fill in the line below: Which candy was more popular with survey respondents:\n",
    "# '3 Musketeers' or 'Almond Joy'?  (Please enclose your answer in single quotes.)\n",
    "more_popular = '3 Musketeers'\n",
    "\n",
    "# Fill in the line below: Which candy has higher sugar content: 'Air Heads'\n",
    "# or 'Baby Ruth'? (Please enclose your answer in single quotes.)\n",
    "more_sugar = 'Air Heads'\n",
    "\n",
    "# Check your answers\n",
    "step_2.check()"
   ]
  },
  {
   "cell_type": "code",
   "execution_count": 7,
   "id": "b2576eeb",
   "metadata": {
    "execution": {
     "iopub.execute_input": "2022-07-01T10:55:16.594464Z",
     "iopub.status.busy": "2022-07-01T10:55:16.593791Z",
     "iopub.status.idle": "2022-07-01T10:55:16.597455Z",
     "shell.execute_reply": "2022-07-01T10:55:16.596644Z"
    },
    "papermill": {
     "duration": 0.018257,
     "end_time": "2022-07-01T10:55:16.599558",
     "exception": false,
     "start_time": "2022-07-01T10:55:16.581301",
     "status": "completed"
    },
    "tags": []
   },
   "outputs": [],
   "source": [
    "# Lines below will give you a hint or solution code\n",
    "#step_2.hint()\n",
    "#step_2.solution()"
   ]
  },
  {
   "cell_type": "markdown",
   "id": "1943330d",
   "metadata": {
    "papermill": {
     "duration": 0.010756,
     "end_time": "2022-07-01T10:55:16.621630",
     "exception": false,
     "start_time": "2022-07-01T10:55:16.610874",
     "status": "completed"
    },
    "tags": []
   },
   "source": [
    "## Step 3: The role of sugar\n",
    "\n",
    "Do people tend to prefer candies with higher sugar content?  \n",
    "\n",
    "#### Part A\n",
    "\n",
    "Create a scatter plot that shows the relationship between `'sugarpercent'` (on the horizontal x-axis) and `'winpercent'` (on the vertical y-axis).  _Don't add a regression line just yet -- you'll do that in the next step!_"
   ]
  },
  {
   "cell_type": "code",
   "execution_count": 8,
   "id": "c13ae8d6",
   "metadata": {
    "execution": {
     "iopub.execute_input": "2022-07-01T10:55:16.645923Z",
     "iopub.status.busy": "2022-07-01T10:55:16.645329Z",
     "iopub.status.idle": "2022-07-01T10:55:16.857242Z",
     "shell.execute_reply": "2022-07-01T10:55:16.856092Z"
    },
    "papermill": {
     "duration": 0.22689,
     "end_time": "2022-07-01T10:55:16.859675",
     "exception": false,
     "start_time": "2022-07-01T10:55:16.632785",
     "status": "completed"
    },
    "tags": []
   },
   "outputs": [
    {
     "data": {
      "application/javascript": [
       "parent.postMessage({\"jupyterEvent\": \"custom.exercise_interaction\", \"data\": {\"outcomeType\": 1, \"valueTowardsCompletion\": 0.3333333333333333, \"interactionType\": 1, \"questionType\": 2, \"questionId\": \"3.1_PlotBlueScatter\", \"learnToolsVersion\": \"0.3.4\", \"failureMessage\": \"\", \"exceptionClass\": \"\", \"trace\": \"\"}}, \"*\")"
      ],
      "text/plain": [
       "<IPython.core.display.Javascript object>"
      ]
     },
     "metadata": {},
     "output_type": "display_data"
    },
    {
     "data": {
      "text/markdown": [
       "<span style=\"color:#33cc33\">Correct</span>"
      ],
      "text/plain": [
       "Correct"
      ]
     },
     "metadata": {},
     "output_type": "display_data"
    },
    {
     "data": {
      "image/png": "[encoded data removed]",
      "text/plain": [
       "<Figure size 432x288 with 1 Axes>"
      ]
     },
     "metadata": {
      "needs_background": "light"
     },
     "output_type": "display_data"
    }
   ],
   "source": [
    "# Scatter plot showing the relationship between 'sugarpercent' and 'winpercent'\n",
    "____ # Your code here\n",
    "sns.scatterplot(x=candy_data['sugarpercent'] ,y=candy_data['winpercent'])\n",
    "# Check your answer\n",
    "step_3.a.check()"
   ]
  },
  {
   "cell_type": "code",
   "execution_count": 9,
   "id": "e0542545",
   "metadata": {
    "execution": {
     "iopub.execute_input": "2022-07-01T10:55:16.885102Z",
     "iopub.status.busy": "2022-07-01T10:55:16.884327Z",
     "iopub.status.idle": "2022-07-01T10:55:16.888453Z",
     "shell.execute_reply": "2022-07-01T10:55:16.887604Z"
    },
    "papermill": {
     "duration": 0.019127,
     "end_time": "2022-07-01T10:55:16.890587",
     "exception": false,
     "start_time": "2022-07-01T10:55:16.871460",
     "status": "completed"
    },
    "tags": []
   },
   "outputs": [],
   "source": [
    "# Lines below will give you a hint or solution code\n",
    "#step_3.a.hint()\n",
    "#step_3.a.solution_plot()"
   ]
  },
  {
   "cell_type": "markdown",
   "id": "d1876617",
   "metadata": {
    "papermill": {
     "duration": 0.0111,
     "end_time": "2022-07-01T10:55:16.913210",
     "exception": false,
     "start_time": "2022-07-01T10:55:16.902110",
     "status": "completed"
    },
    "tags": []
   },
   "source": [
    "#### Part B\n",
    "\n",
    "Does the scatter plot show a **strong** correlation between the two variables?  If so, are candies with more sugar relatively more or less popular with the survey respondents?"
   ]
  },
  {
   "cell_type": "code",
   "execution_count": 10,
   "id": "be7989fc",
   "metadata": {
    "execution": {
     "iopub.execute_input": "2022-07-01T10:55:16.938085Z",
     "iopub.status.busy": "2022-07-01T10:55:16.937362Z",
     "iopub.status.idle": "2022-07-01T10:55:16.944707Z",
     "shell.execute_reply": "2022-07-01T10:55:16.943948Z"
    },
    "papermill": {
     "duration": 0.022112,
     "end_time": "2022-07-01T10:55:16.946787",
     "exception": false,
     "start_time": "2022-07-01T10:55:16.924675",
     "status": "completed"
    },
    "tags": []
   },
   "outputs": [
    {
     "data": {
      "application/javascript": [
       "parent.postMessage({\"jupyterEvent\": \"custom.exercise_interaction\", \"data\": {\"interactionType\": 2, \"questionType\": 4, \"questionId\": \"3.2_ThinkBlueScatter\", \"learnToolsVersion\": \"0.3.4\", \"valueTowardsCompletion\": 0.0, \"failureMessage\": \"\", \"exceptionClass\": \"\", \"trace\": \"\", \"outcomeType\": 4}}, \"*\")"
      ],
      "text/plain": [
       "<IPython.core.display.Javascript object>"
      ]
     },
     "metadata": {},
     "output_type": "display_data"
    },
    {
     "data": {
      "text/markdown": [
       "<span style=\"color:#3366cc\">Hint:</span> Compare candies with higher sugar content (on the right side of the chart) to candies with lower sugar content (on the left side of the chart). Is one group clearly more popular than the other?"
      ],
      "text/plain": [
       "Hint: Compare candies with higher sugar content (on the right side of the chart) to candies with lower sugar content (on the left side of the chart). Is one group clearly more popular than the other?"
      ]
     },
     "metadata": {},
     "output_type": "display_data"
    }
   ],
   "source": [
    "step_3.b.hint()"
   ]
  },
  {
   "cell_type": "code",
   "execution_count": 11,
   "id": "1f107271",
   "metadata": {
    "execution": {
     "iopub.execute_input": "2022-07-01T10:55:16.972966Z",
     "iopub.status.busy": "2022-07-01T10:55:16.972010Z",
     "iopub.status.idle": "2022-07-01T10:55:16.979715Z",
     "shell.execute_reply": "2022-07-01T10:55:16.978803Z"
    },
    "papermill": {
     "duration": 0.022821,
     "end_time": "2022-07-01T10:55:16.981785",
     "exception": false,
     "start_time": "2022-07-01T10:55:16.958964",
     "status": "completed"
    },
    "tags": []
   },
   "outputs": [
    {
     "data": {
      "application/javascript": [
       "parent.postMessage({\"jupyterEvent\": \"custom.exercise_interaction\", \"data\": {\"interactionType\": 3, \"questionType\": 4, \"questionId\": \"3.2_ThinkBlueScatter\", \"learnToolsVersion\": \"0.3.4\", \"valueTowardsCompletion\": 0.0, \"failureMessage\": \"\", \"exceptionClass\": \"\", \"trace\": \"\", \"outcomeType\": 4}}, \"*\")"
      ],
      "text/plain": [
       "<IPython.core.display.Javascript object>"
      ]
     },
     "metadata": {},
     "output_type": "display_data"
    },
    {
     "data": {
      "text/markdown": [
       "<span style=\"color:#33cc99\">Solution:</span> The scatter plot does not show a strong correlation between the two variables. Since there is no clear relationship between the two variables, this tells us that sugar content does not play a strong role in candy popularity."
      ],
      "text/plain": [
       "Solution: The scatter plot does not show a strong correlation between the two variables. Since there is no clear relationship between the two variables, this tells us that sugar content does not play a strong role in candy popularity."
      ]
     },
     "metadata": {},
     "output_type": "display_data"
    }
   ],
   "source": [
    "# Check your answer (Run this code cell to receive credit!)\n",
    "step_3.b.solution()"
   ]
  },
  {
   "cell_type": "markdown",
   "id": "744eeda5",
   "metadata": {
    "papermill": {
     "duration": 0.011673,
     "end_time": "2022-07-01T10:55:17.005546",
     "exception": false,
     "start_time": "2022-07-01T10:55:16.993873",
     "status": "completed"
    },
    "tags": []
   },
   "source": [
    "## Step 4: Take a closer look\n",
    "\n",
    "#### Part A\n",
    "\n",
    "Create the same scatter plot you created in **Step 3**, but now with a regression line!"
   ]
  },
  {
   "cell_type": "code",
   "execution_count": 12,
   "id": "2cf0998f",
   "metadata": {
    "execution": {
     "iopub.execute_input": "2022-07-01T10:55:17.031564Z",
     "iopub.status.busy": "2022-07-01T10:55:17.030883Z",
     "iopub.status.idle": "2022-07-01T10:55:17.305346Z",
     "shell.execute_reply": "2022-07-01T10:55:17.304058Z"
    },
    "papermill": {
     "duration": 0.290478,
     "end_time": "2022-07-01T10:55:17.308048",
     "exception": false,
     "start_time": "2022-07-01T10:55:17.017570",
     "status": "completed"
    },
    "tags": []
   },
   "outputs": [
    {
     "data": {
      "application/javascript": [
       "parent.postMessage({\"jupyterEvent\": \"custom.exercise_interaction\", \"data\": {\"outcomeType\": 1, \"valueTowardsCompletion\": 0.3333333333333333, \"interactionType\": 1, \"questionType\": 2, \"questionId\": \"4.1_PlotBlueReg\", \"learnToolsVersion\": \"0.3.4\", \"failureMessage\": \"\", \"exceptionClass\": \"\", \"trace\": \"\"}}, \"*\")"
      ],
      "text/plain": [
       "<IPython.core.display.Javascript object>"
      ]
     },
     "metadata": {},
     "output_type": "display_data"
    },
    {
     "data": {
      "text/markdown": [
       "<span style=\"color:#33cc33\">Correct</span>"
      ],
      "text/plain": [
       "Correct"
      ]
     },
     "metadata": {},
     "output_type": "display_data"
    },
    {
     "data": {
      "image/png": "[encoded data removed]",
      "text/plain": [
       "<Figure size 432x288 with 1 Axes>"
      ]
     },
     "metadata": {
      "needs_background": "light"
     },
     "output_type": "display_data"
    }
   ],
   "source": [
    "# Scatter plot w/ regression line showing the relationship between 'sugarpercent' and 'winpercent'\n",
    "____ # Your code here\n",
    "sns.regplot(x=candy_data['sugarpercent'] ,y=candy_data['winpercent'])\n",
    "# Check your answer\n",
    "step_4.a.check()"
   ]
  },
  {
   "cell_type": "code",
   "execution_count": 13,
   "id": "230f1efc",
   "metadata": {
    "execution": {
     "iopub.execute_input": "2022-07-01T10:55:17.336236Z",
     "iopub.status.busy": "2022-07-01T10:55:17.335442Z",
     "iopub.status.idle": "2022-07-01T10:55:17.340001Z",
     "shell.execute_reply": "2022-07-01T10:55:17.338860Z"
    },
    "papermill": {
     "duration": 0.021235,
     "end_time": "2022-07-01T10:55:17.342204",
     "exception": false,
     "start_time": "2022-07-01T10:55:17.320969",
     "status": "completed"
    },
    "tags": []
   },
   "outputs": [],
   "source": [
    "# Lines below will give you a hint or solution code\n",
    "#step_4.a.hint()\n",
    "#step_4.a.solution_plot()"
   ]
  },
  {
   "cell_type": "markdown",
   "id": "9deca094",
   "metadata": {
    "papermill": {
     "duration": 0.012391,
     "end_time": "2022-07-01T10:55:17.367993",
     "exception": false,
     "start_time": "2022-07-01T10:55:17.355602",
     "status": "completed"
    },
    "tags": []
   },
   "source": [
    "#### Part B\n",
    "\n",
    "According to the plot above, is there a **slight** correlation between `'winpercent'` and `'sugarpercent'`?  What does this tell you about the candy that people tend to prefer?"
   ]
  },
  {
   "cell_type": "code",
   "execution_count": 14,
   "id": "f0bda75d",
   "metadata": {
    "execution": {
     "iopub.execute_input": "2022-07-01T10:55:17.395563Z",
     "iopub.status.busy": "2022-07-01T10:55:17.394658Z",
     "iopub.status.idle": "2022-07-01T10:55:17.402957Z",
     "shell.execute_reply": "2022-07-01T10:55:17.402191Z"
    },
    "papermill": {
     "duration": 0.024147,
     "end_time": "2022-07-01T10:55:17.404916",
     "exception": false,
     "start_time": "2022-07-01T10:55:17.380769",
     "status": "completed"
    },
    "tags": []
   },
   "outputs": [
    {
     "data": {
      "application/javascript": [
       "parent.postMessage({\"jupyterEvent\": \"custom.exercise_interaction\", \"data\": {\"interactionType\": 2, \"questionType\": 4, \"questionId\": \"4.2_ThinkBlueReg\", \"learnToolsVersion\": \"0.3.4\", \"valueTowardsCompletion\": 0.0, \"failureMessage\": \"\", \"exceptionClass\": \"\", \"trace\": \"\", \"outcomeType\": 4}}, \"*\")"
      ],
      "text/plain": [
       "<IPython.core.display.Javascript object>"
      ]
     },
     "metadata": {},
     "output_type": "display_data"
    },
    {
     "data": {
      "text/markdown": [
       "<span style=\"color:#3366cc\">Hint:</span> Does the regression line have a positive or negative slope?"
      ],
      "text/plain": [
       "Hint: Does the regression line have a positive or negative slope?"
      ]
     },
     "metadata": {},
     "output_type": "display_data"
    }
   ],
   "source": [
    "step_4.b.hint()"
   ]
  },
  {
   "cell_type": "code",
   "execution_count": 15,
   "id": "1e803e44",
   "metadata": {
    "execution": {
     "iopub.execute_input": "2022-07-01T10:55:17.432579Z",
     "iopub.status.busy": "2022-07-01T10:55:17.432136Z",
     "iopub.status.idle": "2022-07-01T10:55:17.438862Z",
     "shell.execute_reply": "2022-07-01T10:55:17.438128Z"
    },
    "papermill": {
     "duration": 0.023047,
     "end_time": "2022-07-01T10:55:17.440874",
     "exception": false,
     "start_time": "2022-07-01T10:55:17.417827",
     "status": "completed"
    },
    "tags": []
   },
   "outputs": [
    {
     "data": {
      "application/javascript": [
       "parent.postMessage({\"jupyterEvent\": \"custom.exercise_interaction\", \"data\": {\"interactionType\": 3, \"questionType\": 4, \"questionId\": \"4.2_ThinkBlueReg\", \"learnToolsVersion\": \"0.3.4\", \"valueTowardsCompletion\": 0.0, \"failureMessage\": \"\", \"exceptionClass\": \"\", \"trace\": \"\", \"outcomeType\": 4}}, \"*\")"
      ],
      "text/plain": [
       "<IPython.core.display.Javascript object>"
      ]
     },
     "metadata": {},
     "output_type": "display_data"
    },
    {
     "data": {
      "text/markdown": [
       "<span style=\"color:#33cc99\">Solution:</span> Since the regression line has a slightly positive slope, this tells us that there is a slightly positive correlation between `'winpercent'` and `'sugarpercent'`. Thus, people have a slight preference for candies containing relatively more sugar."
      ],
      "text/plain": [
       "Solution: Since the regression line has a slightly positive slope, this tells us that there is a slightly positive correlation between `'winpercent'` and `'sugarpercent'`. Thus, people have a slight preference for candies containing relatively more sugar."
      ]
     },
     "metadata": {},
     "output_type": "display_data"
    }
   ],
   "source": [
    "# Check your answer (Run this code cell to receive credit!)\n",
    "step_4.b.solution()"
   ]
  },
  {
   "cell_type": "markdown",
   "id": "90ddcdcd",
   "metadata": {
    "papermill": {
     "duration": 0.012863,
     "end_time": "2022-07-01T10:55:17.466798",
     "exception": false,
     "start_time": "2022-07-01T10:55:17.453935",
     "status": "completed"
    },
    "tags": []
   },
   "source": [
    "## Step 5: Chocolate!\n",
    "\n",
    "In the code cell below, create a scatter plot to show the relationship between `'pricepercent'` (on the horizontal x-axis) and `'winpercent'` (on the vertical y-axis). Use the `'chocolate'` column to color-code the points.  _Don't add any regression lines just yet -- you'll do that in the next step!_"
   ]
  },
  {
   "cell_type": "code",
   "execution_count": 16,
   "id": "d2dd8cf8",
   "metadata": {
    "execution": {
     "iopub.execute_input": "2022-07-01T10:55:17.495163Z",
     "iopub.status.busy": "2022-07-01T10:55:17.494559Z",
     "iopub.status.idle": "2022-07-01T10:55:17.741730Z",
     "shell.execute_reply": "2022-07-01T10:55:17.740588Z"
    },
    "papermill": {
     "duration": 0.264241,
     "end_time": "2022-07-01T10:55:17.744135",
     "exception": false,
     "start_time": "2022-07-01T10:55:17.479894",
     "status": "completed"
    },
    "tags": []
   },
   "outputs": [
    {
     "data": {
      "application/javascript": [
       "parent.postMessage({\"jupyterEvent\": \"custom.exercise_interaction\", \"data\": {\"outcomeType\": 1, \"valueTowardsCompletion\": 0.3333333333333333, \"interactionType\": 1, \"questionType\": 2, \"questionId\": \"5_ColorScatter\", \"learnToolsVersion\": \"0.3.4\", \"failureMessage\": \"\", \"exceptionClass\": \"\", \"trace\": \"\"}}, \"*\")"
      ],
      "text/plain": [
       "<IPython.core.display.Javascript object>"
      ]
     },
     "metadata": {},
     "output_type": "display_data"
    },
    {
     "data": {
      "text/markdown": [
       "<span style=\"color:#33cc33\">Correct</span>"
      ],
      "text/plain": [
       "Correct"
      ]
     },
     "metadata": {},
     "output_type": "display_data"
    },
    {
     "data": {
      "image/png": "[encoded data removed]",
      "text/plain": [
       "<Figure size 432x288 with 1 Axes>"
      ]
     },
     "metadata": {
      "needs_background": "light"
     },
     "output_type": "display_data"
    }
   ],
   "source": [
    "# Scatter plot showing the relationship between 'pricepercent', 'winpercent', and 'chocolate'\n",
    "____ # Your code here\n",
    "sns.scatterplot(x=candy_data['pricepercent'] ,y=candy_data['winpercent'],hue=candy_data['chocolate'])\n",
    "# Check your answer\n",
    "step_5.check()"
   ]
  },
  {
   "cell_type": "code",
   "execution_count": 17,
   "id": "78c1636b",
   "metadata": {
    "execution": {
     "iopub.execute_input": "2022-07-01T10:55:17.774528Z",
     "iopub.status.busy": "2022-07-01T10:55:17.774097Z",
     "iopub.status.idle": "2022-07-01T10:55:17.778442Z",
     "shell.execute_reply": "2022-07-01T10:55:17.777628Z"
    },
    "papermill": {
     "duration": 0.021709,
     "end_time": "2022-07-01T10:55:17.780363",
     "exception": false,
     "start_time": "2022-07-01T10:55:17.758654",
     "status": "completed"
    },
    "tags": []
   },
   "outputs": [],
   "source": [
    "# Lines below will give you a hint or solution code\n",
    "#step_5.hint()\n",
    "#step_5.solution_plot()"
   ]
  },
  {
   "cell_type": "markdown",
   "id": "dc799639",
   "metadata": {
    "papermill": {
     "duration": 0.013606,
     "end_time": "2022-07-01T10:55:17.807864",
     "exception": false,
     "start_time": "2022-07-01T10:55:17.794258",
     "status": "completed"
    },
    "tags": []
   },
   "source": [
    "Can you see any interesting patterns in the scatter plot?  We'll investigate this plot further  by adding regression lines in the next step!\n",
    "\n",
    "## Step 6: Investigate chocolate\n",
    "\n",
    "#### Part A\n",
    "\n",
    "Create the same scatter plot you created in **Step 5**, but now with two regression lines, corresponding to (1) chocolate candies and (2) candies without chocolate."
   ]
  },
  {
   "cell_type": "code",
   "execution_count": 18,
   "id": "1a7705f5",
   "metadata": {
    "execution": {
     "iopub.execute_input": "2022-07-01T10:55:17.837537Z",
     "iopub.status.busy": "2022-07-01T10:55:17.836844Z",
     "iopub.status.idle": "2022-07-01T10:55:18.432173Z",
     "shell.execute_reply": "2022-07-01T10:55:18.431410Z"
    },
    "papermill": {
     "duration": 0.612614,
     "end_time": "2022-07-01T10:55:18.434412",
     "exception": false,
     "start_time": "2022-07-01T10:55:17.821798",
     "status": "completed"
    },
    "tags": []
   },
   "outputs": [
    {
     "data": {
      "application/javascript": [
       "parent.postMessage({\"jupyterEvent\": \"custom.exercise_interaction\", \"data\": {\"outcomeType\": 1, \"valueTowardsCompletion\": 0.3333333333333333, \"interactionType\": 1, \"questionType\": 2, \"questionId\": \"6.1_PlotColorReg\", \"learnToolsVersion\": \"0.3.4\", \"failureMessage\": \"\", \"exceptionClass\": \"\", \"trace\": \"\"}}, \"*\")"
      ],
      "text/plain": [
       "<IPython.core.display.Javascript object>"
      ]
     },
     "metadata": {},
     "output_type": "display_data"
    },
    {
     "data": {
      "text/markdown": [
       "<span style=\"color:#33cc33\">Correct</span>"
      ],
      "text/plain": [
       "Correct"
      ]
     },
     "metadata": {},
     "output_type": "display_data"
    },
    {
     "data": {
      "image/png": "[encoded data removed]",
      "text/plain": [
       "<Figure size 416.375x360 with 1 Axes>"
      ]
     },
     "metadata": {
      "needs_background": "light"
     },
     "output_type": "display_data"
    }
   ],
   "source": [
    "# Color-coded scatter plot w/ regression lines\n",
    "____ # Your code here\n",
    "sns.lmplot(x='pricepercent' ,y='winpercent',hue='chocolate',data=candy_data)\n",
    "# Check your answer\n",
    "step_6.a.check()"
   ]
  },
  {
   "cell_type": "code",
   "execution_count": 19,
   "id": "c2092469",
   "metadata": {
    "execution": {
     "iopub.execute_input": "2022-07-01T10:55:18.466191Z",
     "iopub.status.busy": "2022-07-01T10:55:18.465186Z",
     "iopub.status.idle": "2022-07-01T10:55:18.470002Z",
     "shell.execute_reply": "2022-07-01T10:55:18.468954Z"
    },
    "papermill": {
     "duration": 0.02306,
     "end_time": "2022-07-01T10:55:18.472257",
     "exception": false,
     "start_time": "2022-07-01T10:55:18.449197",
     "status": "completed"
    },
    "tags": []
   },
   "outputs": [],
   "source": [
    "# Lines below will give you a hint or solution code\n",
    "#step_6.a.hint()\n",
    "#step_6.a.solution_plot()"
   ]
  },
  {
   "cell_type": "markdown",
   "id": "e6da92ab",
   "metadata": {
    "papermill": {
     "duration": 0.013986,
     "end_time": "2022-07-01T10:55:18.500720",
     "exception": false,
     "start_time": "2022-07-01T10:55:18.486734",
     "status": "completed"
    },
    "tags": []
   },
   "source": [
    "#### Part B\n",
    "\n",
    "Using the regression lines, what conclusions can you draw about the effects of chocolate and price on candy popularity?"
   ]
  },
  {
   "cell_type": "code",
   "execution_count": 20,
   "id": "ec97d34b",
   "metadata": {
    "execution": {
     "iopub.execute_input": "2022-07-01T10:55:18.531487Z",
     "iopub.status.busy": "2022-07-01T10:55:18.530602Z",
     "iopub.status.idle": "2022-07-01T10:55:18.538201Z",
     "shell.execute_reply": "2022-07-01T10:55:18.537296Z"
    },
    "papermill": {
     "duration": 0.025136,
     "end_time": "2022-07-01T10:55:18.540207",
     "exception": false,
     "start_time": "2022-07-01T10:55:18.515071",
     "status": "completed"
    },
    "tags": []
   },
   "outputs": [
    {
     "data": {
      "application/javascript": [
       "parent.postMessage({\"jupyterEvent\": \"custom.exercise_interaction\", \"data\": {\"interactionType\": 2, \"questionType\": 4, \"questionId\": \"6.2_ThinkColorReg\", \"learnToolsVersion\": \"0.3.4\", \"valueTowardsCompletion\": 0.0, \"failureMessage\": \"\", \"exceptionClass\": \"\", \"trace\": \"\", \"outcomeType\": 4}}, \"*\")"
      ],
      "text/plain": [
       "<IPython.core.display.Javascript object>"
      ]
     },
     "metadata": {},
     "output_type": "display_data"
    },
    {
     "data": {
      "text/markdown": [
       "<span style=\"color:#3366cc\">Hint:</span> Look at each regression line - do you notice a positive or negative slope?"
      ],
      "text/plain": [
       "Hint: Look at each regression line - do you notice a positive or negative slope?"
      ]
     },
     "metadata": {},
     "output_type": "display_data"
    }
   ],
   "source": [
    "step_6.b.hint()"
   ]
  },
  {
   "cell_type": "code",
   "execution_count": 21,
   "id": "aaa80392",
   "metadata": {
    "execution": {
     "iopub.execute_input": "2022-07-01T10:55:18.571336Z",
     "iopub.status.busy": "2022-07-01T10:55:18.570592Z",
     "iopub.status.idle": "2022-07-01T10:55:18.577270Z",
     "shell.execute_reply": "2022-07-01T10:55:18.576583Z"
    },
    "papermill": {
     "duration": 0.024719,
     "end_time": "2022-07-01T10:55:18.579522",
     "exception": false,
     "start_time": "2022-07-01T10:55:18.554803",
     "status": "completed"
    },
    "tags": []
   },
   "outputs": [
    {
     "data": {
      "application/javascript": [
       "parent.postMessage({\"jupyterEvent\": \"custom.exercise_interaction\", \"data\": {\"interactionType\": 3, \"questionType\": 4, \"questionId\": \"6.2_ThinkColorReg\", \"learnToolsVersion\": \"0.3.4\", \"valueTowardsCompletion\": 0.0, \"failureMessage\": \"\", \"exceptionClass\": \"\", \"trace\": \"\", \"outcomeType\": 4}}, \"*\")"
      ],
      "text/plain": [
       "<IPython.core.display.Javascript object>"
      ]
     },
     "metadata": {},
     "output_type": "display_data"
    },
    {
     "data": {
      "text/markdown": [
       "<span style=\"color:#33cc99\">Solution:</span> We'll begin with the regression line for chocolate candies. Since this line has a slightly positive slope, we can say that more expensive chocolate candies tend to be more popular (than relatively cheaper chocolate candies).  Likewise, since the regression line for candies without chocolate has a negative slope, we can say that if candies don't contain chocolate, they tend to be more popular when they are cheaper.  One important note, however, is that the dataset is quite small -- so we shouldn't invest too much trust in these patterns!  To inspire more confidence in the results, we should add more candies to the dataset."
      ],
      "text/plain": [
       "Solution: We'll begin with the regression line for chocolate candies. Since this line has a slightly positive slope, we can say that more expensive chocolate candies tend to be more popular (than relatively cheaper chocolate candies).  Likewise, since the regression line for candies without chocolate has a negative slope, we can say that if candies don't contain chocolate, they tend to be more popular when they are cheaper.  One important note, however, is that the dataset is quite small -- so we shouldn't invest too much trust in these patterns!  To inspire more confidence in the results, we should add more candies to the dataset."
      ]
     },
     "metadata": {},
     "output_type": "display_data"
    }
   ],
   "source": [
    "# Check your answer (Run this code cell to receive credit!)\n",
    "step_6.b.solution()"
   ]
  },
  {
   "cell_type": "markdown",
   "id": "d5a9e0d4",
   "metadata": {
    "papermill": {
     "duration": 0.01466,
     "end_time": "2022-07-01T10:55:18.609277",
     "exception": false,
     "start_time": "2022-07-01T10:55:18.594617",
     "status": "completed"
    },
    "tags": []
   },
   "source": [
    "## Step 7: Everybody loves chocolate.\n",
    "\n",
    "#### Part A\n",
    "\n",
    "Create a categorical scatter plot to highlight the relationship between `'chocolate'` and `'winpercent'`.  Put `'chocolate'` on the (horizontal) x-axis, and `'winpercent'` on the (vertical) y-axis."
   ]
  },
  {
   "cell_type": "code",
   "execution_count": 22,
   "id": "086c110c",
   "metadata": {
    "execution": {
     "iopub.execute_input": "2022-07-01T10:55:18.641428Z",
     "iopub.status.busy": "2022-07-01T10:55:18.641050Z",
     "iopub.status.idle": "2022-07-01T10:55:18.778152Z",
     "shell.execute_reply": "2022-07-01T10:55:18.777389Z"
    },
    "papermill": {
     "duration": 0.155827,
     "end_time": "2022-07-01T10:55:18.780605",
     "exception": false,
     "start_time": "2022-07-01T10:55:18.624778",
     "status": "completed"
    },
    "tags": []
   },
   "outputs": [
    {
     "data": {
      "application/javascript": [
       "parent.postMessage({\"jupyterEvent\": \"custom.exercise_interaction\", \"data\": {\"outcomeType\": 1, \"valueTowardsCompletion\": 0.3333333333333333, \"interactionType\": 1, \"questionType\": 2, \"questionId\": \"7.1_PlotSwarm\", \"learnToolsVersion\": \"0.3.4\", \"failureMessage\": \"\", \"exceptionClass\": \"\", \"trace\": \"\"}}, \"*\")"
      ],
      "text/plain": [
       "<IPython.core.display.Javascript object>"
      ]
     },
     "metadata": {},
     "output_type": "display_data"
    },
    {
     "data": {
      "text/markdown": [
       "<span style=\"color:#33cc33\">Correct</span>"
      ],
      "text/plain": [
       "Correct"
      ]
     },
     "metadata": {},
     "output_type": "display_data"
    },
    {
     "data": {
      "image/png": "[encoded data removed]",
      "text/plain": [
       "<Figure size 432x288 with 1 Axes>"
      ]
     },
     "metadata": {
      "needs_background": "light"
     },
     "output_type": "display_data"
    }
   ],
   "source": [
    "# Scatter plot showing the relationship between 'chocolate' and 'winpercent'\n",
    "____ # Your code here\n",
    "sns.swarmplot(x=candy_data['chocolate'] ,y=candy_data['winpercent'])\n",
    "step_7.a.check()"
   ]
  },
  {
   "cell_type": "code",
   "execution_count": 23,
   "id": "4130523d",
   "metadata": {
    "execution": {
     "iopub.execute_input": "2022-07-01T10:55:18.815747Z",
     "iopub.status.busy": "2022-07-01T10:55:18.814185Z",
     "iopub.status.idle": "2022-07-01T10:55:18.819264Z",
     "shell.execute_reply": "2022-07-01T10:55:18.818432Z"
    },
    "papermill": {
     "duration": 0.024985,
     "end_time": "2022-07-01T10:55:18.821560",
     "exception": false,
     "start_time": "2022-07-01T10:55:18.796575",
     "status": "completed"
    },
    "tags": []
   },
   "outputs": [],
   "source": [
    "# Lines below will give you a hint or solution code\n",
    "#step_7.a.hint()\n",
    "#step_7.a.solution_plot()"
   ]
  },
  {
   "cell_type": "markdown",
   "id": "cc5304ef",
   "metadata": {
    "papermill": {
     "duration": 0.015314,
     "end_time": "2022-07-01T10:55:18.852819",
     "exception": false,
     "start_time": "2022-07-01T10:55:18.837505",
     "status": "completed"
    },
    "tags": []
   },
   "source": [
    "#### Part B\n",
    "\n",
    "You decide to dedicate a section of your report to the fact that chocolate candies tend to be more popular than candies without chocolate.  Which plot is more appropriate to tell this story: the plot from **Step 6**, or the plot from **Step 7**?"
   ]
  },
  {
   "cell_type": "code",
   "execution_count": 24,
   "id": "025b2371",
   "metadata": {
    "execution": {
     "iopub.execute_input": "2022-07-01T10:55:18.886422Z",
     "iopub.status.busy": "2022-07-01T10:55:18.885703Z",
     "iopub.status.idle": "2022-07-01T10:55:18.892816Z",
     "shell.execute_reply": "2022-07-01T10:55:18.891843Z"
    },
    "papermill": {
     "duration": 0.026539,
     "end_time": "2022-07-01T10:55:18.894970",
     "exception": false,
     "start_time": "2022-07-01T10:55:18.868431",
     "status": "completed"
    },
    "tags": []
   },
   "outputs": [
    {
     "data": {
      "application/javascript": [
       "parent.postMessage({\"jupyterEvent\": \"custom.exercise_interaction\", \"data\": {\"interactionType\": 2, \"questionType\": 4, \"questionId\": \"7.2_ThinkSwarm\", \"learnToolsVersion\": \"0.3.4\", \"valueTowardsCompletion\": 0.0, \"failureMessage\": \"\", \"exceptionClass\": \"\", \"trace\": \"\", \"outcomeType\": 4}}, \"*\")"
      ],
      "text/plain": [
       "<IPython.core.display.Javascript object>"
      ]
     },
     "metadata": {},
     "output_type": "display_data"
    },
    {
     "data": {
      "text/markdown": [
       "<span style=\"color:#3366cc\">Hint:</span> Which plot communicates more information?  In general, it's good practice to use the simplest plot that tells the entire story of interest."
      ],
      "text/plain": [
       "Hint: Which plot communicates more information?  In general, it's good practice to use the simplest plot that tells the entire story of interest."
      ]
     },
     "metadata": {},
     "output_type": "display_data"
    }
   ],
   "source": [
    "step_7.b.hint()"
   ]
  },
  {
   "cell_type": "code",
   "execution_count": 25,
   "id": "a3ecc5e6",
   "metadata": {
    "execution": {
     "iopub.execute_input": "2022-07-01T10:55:18.929105Z",
     "iopub.status.busy": "2022-07-01T10:55:18.928470Z",
     "iopub.status.idle": "2022-07-01T10:55:18.939004Z",
     "shell.execute_reply": "2022-07-01T10:55:18.937996Z"
    },
    "papermill": {
     "duration": 0.029814,
     "end_time": "2022-07-01T10:55:18.941058",
     "exception": false,
     "start_time": "2022-07-01T10:55:18.911244",
     "status": "completed"
    },
    "tags": []
   },
   "outputs": [
    {
     "data": {
      "application/javascript": [
       "parent.postMessage({\"jupyterEvent\": \"custom.exercise_interaction\", \"data\": {\"interactionType\": 3, \"questionType\": 4, \"questionId\": \"7.2_ThinkSwarm\", \"learnToolsVersion\": \"0.3.4\", \"valueTowardsCompletion\": 0.0, \"failureMessage\": \"\", \"exceptionClass\": \"\", \"trace\": \"\", \"outcomeType\": 4}}, \"*\")"
      ],
      "text/plain": [
       "<IPython.core.display.Javascript object>"
      ]
     },
     "metadata": {},
     "output_type": "display_data"
    },
    {
     "data": {
      "text/markdown": [
       "<span style=\"color:#33cc99\">Solution:</span> In this case, the categorical scatter plot from **Step 7** is the more appropriate plot. While both plots tell the desired story, the plot from **Step 6** conveys far more information that could distract from the main point."
      ],
      "text/plain": [
       "Solution: In this case, the categorical scatter plot from **Step 7** is the more appropriate plot. While both plots tell the desired story, the plot from **Step 6** conveys far more information that could distract from the main point."
      ]
     },
     "metadata": {},
     "output_type": "display_data"
    }
   ],
   "source": [
    "# Check your answer (Run this code cell to receive credit!)\n",
    "step_7.b.solution()"
   ]
  },
  {
   "cell_type": "markdown",
   "id": "07e6cdb2",
   "metadata": {
    "papermill": {
     "duration": 0.015996,
     "end_time": "2022-07-01T10:55:18.973027",
     "exception": false,
     "start_time": "2022-07-01T10:55:18.957031",
     "status": "completed"
    },
    "tags": []
   },
   "source": [
    "## Keep going\n",
    "\n",
    "Explore **[histograms and density plots](https://www.kaggle.com/alexisbcook/distributions)**."
   ]
  },
  {
   "cell_type": "markdown",
   "id": "faaa3bc9",
   "metadata": {
    "papermill": {
     "duration": 0.016133,
     "end_time": "2022-07-01T10:55:19.005499",
     "exception": false,
     "start_time": "2022-07-01T10:55:18.989366",
     "status": "completed"
    },
    "tags": []
   },
   "source": [
    "---\n",
    "\n",
    "\n",
    "\n",
    "\n",
    "*Have questions or comments? Visit the [course discussion forum](https://www.kaggle.com/learn/data-visualization/discussion) to chat with other learners.*"
   ]
  }
 ],
 "metadata": {
  "kernelspec": {
   "display_name": "Python 3",
   "language": "python",
   "name": "python3"
  },
  "language_info": {
   "codemirror_mode": {
    "name": "ipython",
    "version": 3
   },
   "file_extension": ".py",
   "mimetype": "text/x-python",
   "name": "python",
   "nbconvert_exporter": "python",
   "pygments_lexer": "ipython3",
   "version": "3.7.12"
  },
  "papermill": {
   "default_parameters": {},
   "duration": 15.131606,
   "end_time": "2022-07-01T10:55:19.742947",
   "environment_variables": {},
   "exception": null,
   "input_path": "__notebook__.ipynb",
   "output_path": "__notebook__.ipynb",
   "parameters": {},
   "start_time": "2022-07-01T10:55:04.611341",
   "version": "2.3.4"
  }
 },
 "nbformat": 4,
 "nbformat_minor": 5
}
